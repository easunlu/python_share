{
 "cells": [
  {
   "cell_type": "code",
   "execution_count": 1,
   "metadata": {},
   "outputs": [],
   "source": [
    "import datetime\n",
    "import calendar\n",
    "import numpy as np\n",
    "import pandas as pd\n",
    "from dateutil.relativedelta import relativedelta"
   ]
  },
  {
   "cell_type": "code",
   "execution_count": 7,
   "metadata": {},
   "outputs": [],
   "source": [
    "customer_20191014_info = pd.read_excel('用户列表2019-10-14.xls', sheet_name='用户列表2019-10-14')\\\n",
    "[['公司名称', '白条额度', '客户编号', '事业部', '起始日期']]"
   ]
  },
  {
   "cell_type": "code",
   "execution_count": 8,
   "metadata": {},
   "outputs": [],
   "source": [
    "customer_20191014_info['起始日期'] = pd.to_datetime(customer_20191014_info['起始日期'])"
   ]
  },
  {
   "cell_type": "code",
   "execution_count": 9,
   "metadata": {},
   "outputs": [],
   "source": [
    "customer_20191014_info['白条额度'] = customer_20191014_info['白条额度'] / 10000"
   ]
  },
  {
   "cell_type": "code",
   "execution_count": 10,
   "metadata": {},
   "outputs": [
    {
     "data": {
      "text/plain": [
       "datetime.datetime(2019, 7, 15, 0, 0)"
      ]
     },
     "execution_count": 10,
     "metadata": {},
     "output_type": "execute_result"
    }
   ],
   "source": [
    "date_limit = datetime.datetime(2019, 10, 13) - relativedelta(days=90)\n",
    "date_limit"
   ]
  },
  {
   "cell_type": "code",
   "execution_count": 1,
   "metadata": {},
   "outputs": [
    {
     "ename": "NameError",
     "evalue": "name 'customer_20191014_info' is not defined",
     "output_type": "error",
     "traceback": [
      "\u001b[1;31m---------------------------------------------------------------------------\u001b[0m",
      "\u001b[1;31mNameError\u001b[0m                                 Traceback (most recent call last)",
      "\u001b[1;32m<ipython-input-1-d4fd834daca4>\u001b[0m in \u001b[0;36m<module>\u001b[1;34m\u001b[0m\n\u001b[1;32m----> 1\u001b[1;33m \u001b[0mcustomer_20191014_info\u001b[0m \u001b[1;33m=\u001b[0m \u001b[0mcustomer_20191014_info\u001b[0m\u001b[1;33m[\u001b[0m\u001b[0mcustomer_20191014_info\u001b[0m\u001b[1;33m[\u001b[0m\u001b[1;34m'起始日期'\u001b[0m\u001b[1;33m]\u001b[0m \u001b[1;33m<\u001b[0m \u001b[0mdate_limit\u001b[0m\u001b[1;33m]\u001b[0m\u001b[1;33m\u001b[0m\u001b[1;33m\u001b[0m\u001b[0m\n\u001b[0m\u001b[0;32m      2\u001b[0m \u001b[0mcustomer_20191014_info\u001b[0m\u001b[1;33m.\u001b[0m\u001b[0mhead\u001b[0m\u001b[1;33m(\u001b[0m\u001b[1;36m2\u001b[0m\u001b[1;33m)\u001b[0m\u001b[1;33m\u001b[0m\u001b[1;33m\u001b[0m\u001b[0m\n",
      "\u001b[1;31mNameError\u001b[0m: name 'customer_20191014_info' is not defined"
     ]
    }
   ],
   "source": [
    "customer_20191014_info = customer_20191014_info[customer_20191014_info['起始日期'] < date_limit]\n",
    "customer_20191014_info.head(2)"
   ]
  },
  {
   "cell_type": "code",
   "execution_count": null,
   "metadata": {},
   "outputs": [],
   "source": []
  },
  {
   "cell_type": "code",
   "execution_count": 12,
   "metadata": {},
   "outputs": [],
   "source": [
    "bt_first_sign_20191013 = pd.read_excel('./new_data/白条首签-20191021.xlsx', sheet_name='白条首签-2019-10-21')\\\n",
    "[['公司名称', '事业部', '钢贸评分', '近6个月月均交易量', '交易间隔']]\n",
    "crit1 = bt_first_sign_20191013['钢贸评分'] >= 585\n",
    "crit2 = bt_first_sign_20191013['交易间隔'] <= 45\n",
    "bt_first_sign_20191013 = bt_first_sign_20191013[crit1 & crit2]"
   ]
  },
  {
   "cell_type": "code",
   "execution_count": 2,
   "metadata": {},
   "outputs": [
    {
     "ename": "NameError",
     "evalue": "name 'bt_first_sign_20191013' is not defined",
     "output_type": "error",
     "traceback": [
      "\u001b[1;31m---------------------------------------------------------------------------\u001b[0m",
      "\u001b[1;31mNameError\u001b[0m                                 Traceback (most recent call last)",
      "\u001b[1;32m<ipython-input-2-5b8b662741c4>\u001b[0m in \u001b[0;36m<module>\u001b[1;34m\u001b[0m\n\u001b[1;32m----> 1\u001b[1;33m \u001b[0mbt_first_sign_20191013\u001b[0m\u001b[1;33m.\u001b[0m\u001b[0mhead\u001b[0m\u001b[1;33m(\u001b[0m\u001b[1;36m2\u001b[0m\u001b[1;33m)\u001b[0m\u001b[1;33m\u001b[0m\u001b[1;33m\u001b[0m\u001b[0m\n\u001b[0m",
      "\u001b[1;31mNameError\u001b[0m: name 'bt_first_sign_20191013' is not defined"
     ]
    }
   ],
   "source": [
    "bt_first_sign_20191013.head(2)"
   ]
  },
  {
   "cell_type": "code",
   "execution_count": 14,
   "metadata": {},
   "outputs": [],
   "source": [
    "bt_first_sign_for_m3 = pd.read_excel('./new_data/201909（交易员评价数据）/第N批.xlsx', sheet_name='Sheet1')\\\n",
    "[['CUSTOMER_NAME', 'WEIGHT_AVG_M3']]"
   ]
  },
  {
   "cell_type": "code",
   "execution_count": 15,
   "metadata": {},
   "outputs": [],
   "source": [
    "bt_first_sign_for_m3 = bt_first_sign_for_m3.rename(columns={'CUSTOMER_NAME': '公司名称'})"
   ]
  },
  {
   "cell_type": "code",
   "execution_count": 3,
   "metadata": {},
   "outputs": [
    {
     "ename": "NameError",
     "evalue": "name 'bt_first_sign_for_m3' is not defined",
     "output_type": "error",
     "traceback": [
      "\u001b[1;31m---------------------------------------------------------------------------\u001b[0m",
      "\u001b[1;31mNameError\u001b[0m                                 Traceback (most recent call last)",
      "\u001b[1;32m<ipython-input-3-1a8e0adff897>\u001b[0m in \u001b[0;36m<module>\u001b[1;34m\u001b[0m\n\u001b[1;32m----> 1\u001b[1;33m \u001b[0mbt_first_sign_for_m3\u001b[0m\u001b[1;33m.\u001b[0m\u001b[0mhead\u001b[0m\u001b[1;33m(\u001b[0m\u001b[1;36m2\u001b[0m\u001b[1;33m)\u001b[0m\u001b[1;33m\u001b[0m\u001b[1;33m\u001b[0m\u001b[0m\n\u001b[0m",
      "\u001b[1;31mNameError\u001b[0m: name 'bt_first_sign_for_m3' is not defined"
     ]
    }
   ],
   "source": [
    "bt_first_sign_for_m3.head(2)"
   ]
  },
  {
   "cell_type": "code",
   "execution_count": 4,
   "metadata": {},
   "outputs": [
    {
     "ename": "NameError",
     "evalue": "name 'bt_first_sign_20191013' is not defined",
     "output_type": "error",
     "traceback": [
      "\u001b[1;31m---------------------------------------------------------------------------\u001b[0m",
      "\u001b[1;31mNameError\u001b[0m                                 Traceback (most recent call last)",
      "\u001b[1;32m<ipython-input-4-5b8b662741c4>\u001b[0m in \u001b[0;36m<module>\u001b[1;34m\u001b[0m\n\u001b[1;32m----> 1\u001b[1;33m \u001b[0mbt_first_sign_20191013\u001b[0m\u001b[1;33m.\u001b[0m\u001b[0mhead\u001b[0m\u001b[1;33m(\u001b[0m\u001b[1;36m2\u001b[0m\u001b[1;33m)\u001b[0m\u001b[1;33m\u001b[0m\u001b[1;33m\u001b[0m\u001b[0m\n\u001b[0m",
      "\u001b[1;31mNameError\u001b[0m: name 'bt_first_sign_20191013' is not defined"
     ]
    }
   ],
   "source": [
    "bt_first_sign_20191013.head(2)"
   ]
  },
  {
   "cell_type": "code",
   "execution_count": 19,
   "metadata": {},
   "outputs": [
    {
     "data": {
      "text/plain": [
       "5942"
      ]
     },
     "execution_count": 19,
     "metadata": {},
     "output_type": "execute_result"
    }
   ],
   "source": [
    "len(bt_first_sign_20191013)"
   ]
  },
  {
   "cell_type": "code",
   "execution_count": 20,
   "metadata": {},
   "outputs": [
    {
     "data": {
      "text/plain": [
       "23488"
      ]
     },
     "execution_count": 20,
     "metadata": {},
     "output_type": "execute_result"
    }
   ],
   "source": [
    "len(bt_first_sign_for_m3)"
   ]
  },
  {
   "cell_type": "code",
   "execution_count": 5,
   "metadata": {},
   "outputs": [
    {
     "ename": "NameError",
     "evalue": "name 'pd' is not defined",
     "output_type": "error",
     "traceback": [
      "\u001b[1;31m---------------------------------------------------------------------------\u001b[0m",
      "\u001b[1;31mNameError\u001b[0m                                 Traceback (most recent call last)",
      "\u001b[1;32m<ipython-input-5-6e648fdd9146>\u001b[0m in \u001b[0;36m<module>\u001b[1;34m\u001b[0m\n\u001b[1;32m----> 1\u001b[1;33m \u001b[0mold_method\u001b[0m \u001b[1;33m=\u001b[0m \u001b[0mpd\u001b[0m\u001b[1;33m.\u001b[0m\u001b[0mmerge\u001b[0m\u001b[1;33m(\u001b[0m\u001b[0mbt_first_sign_20191013\u001b[0m\u001b[1;33m,\u001b[0m \u001b[0mbt_first_sign_for_m3\u001b[0m\u001b[1;33m,\u001b[0m \u001b[0mon\u001b[0m\u001b[1;33m=\u001b[0m\u001b[1;34m'公司名称'\u001b[0m\u001b[1;33m)\u001b[0m\u001b[1;33m\u001b[0m\u001b[1;33m\u001b[0m\u001b[0m\n\u001b[0m\u001b[0;32m      2\u001b[0m \u001b[0mprint\u001b[0m\u001b[1;33m(\u001b[0m\u001b[0mlen\u001b[0m\u001b[1;33m(\u001b[0m\u001b[0mold_method\u001b[0m\u001b[1;33m)\u001b[0m\u001b[1;33m)\u001b[0m\u001b[1;33m\u001b[0m\u001b[1;33m\u001b[0m\u001b[0m\n\u001b[0;32m      3\u001b[0m \u001b[0mold_method\u001b[0m\u001b[1;33m.\u001b[0m\u001b[0mhead\u001b[0m\u001b[1;33m(\u001b[0m\u001b[1;36m2\u001b[0m\u001b[1;33m)\u001b[0m\u001b[1;33m\u001b[0m\u001b[1;33m\u001b[0m\u001b[0m\n",
      "\u001b[1;31mNameError\u001b[0m: name 'pd' is not defined"
     ]
    }
   ],
   "source": [
    "old_method = pd.merge(bt_first_sign_20191013, bt_first_sign_for_m3, on='公司名称')\n",
    "print(len(old_method))\n",
    "old_method.head(2)"
   ]
  },
  {
   "cell_type": "code",
   "execution_count": 22,
   "metadata": {},
   "outputs": [],
   "source": [
    "old_method['new_amount'] = old_method[['公司名称', '近6个月月均交易量', 'WEIGHT_AVG_M3', '事业部']].apply(map_amount_for_bt_rule, axis=1)"
   ]
  },
  {
   "cell_type": "code",
   "execution_count": 23,
   "metadata": {},
   "outputs": [],
   "source": [
    "old_method = old_method.dropna(subset=['new_amount'])"
   ]
  },
  {
   "cell_type": "code",
   "execution_count": 24,
   "metadata": {},
   "outputs": [
    {
     "data": {
      "text/plain": [
       "5639"
      ]
     },
     "execution_count": 24,
     "metadata": {},
     "output_type": "execute_result"
    }
   ],
   "source": [
    "len(old_method)"
   ]
  },
  {
   "cell_type": "code",
   "execution_count": 6,
   "metadata": {},
   "outputs": [
    {
     "ename": "NameError",
     "evalue": "name 'old_method' is not defined",
     "output_type": "error",
     "traceback": [
      "\u001b[1;31m---------------------------------------------------------------------------\u001b[0m",
      "\u001b[1;31mNameError\u001b[0m                                 Traceback (most recent call last)",
      "\u001b[1;32m<ipython-input-6-301ec88a3fdb>\u001b[0m in \u001b[0;36m<module>\u001b[1;34m\u001b[0m\n\u001b[1;32m----> 1\u001b[1;33m \u001b[0mold_method\u001b[0m\u001b[1;33m.\u001b[0m\u001b[0mhead\u001b[0m\u001b[1;33m(\u001b[0m\u001b[1;36m2\u001b[0m\u001b[1;33m)\u001b[0m\u001b[1;33m\u001b[0m\u001b[1;33m\u001b[0m\u001b[0m\n\u001b[0m",
      "\u001b[1;31mNameError\u001b[0m: name 'old_method' is not defined"
     ]
    }
   ],
   "source": [
    "old_method.head(2)"
   ]
  },
  {
   "cell_type": "code",
   "execution_count": 7,
   "metadata": {},
   "outputs": [
    {
     "ename": "NameError",
     "evalue": "name 'pd' is not defined",
     "output_type": "error",
     "traceback": [
      "\u001b[1;31m---------------------------------------------------------------------------\u001b[0m",
      "\u001b[1;31mNameError\u001b[0m                                 Traceback (most recent call last)",
      "\u001b[1;32m<ipython-input-7-cfbf7b013427>\u001b[0m in \u001b[0;36m<module>\u001b[1;34m\u001b[0m\n\u001b[1;32m----> 1\u001b[1;33m \u001b[0mold_method_amount_change_info\u001b[0m \u001b[1;33m=\u001b[0m \u001b[0mpd\u001b[0m\u001b[1;33m.\u001b[0m\u001b[0mmerge\u001b[0m\u001b[1;33m(\u001b[0m\u001b[0mcustomer_20191014_info\u001b[0m\u001b[1;33m,\u001b[0m \u001b[0mold_method\u001b[0m\u001b[1;33m,\u001b[0m \u001b[0mon\u001b[0m\u001b[1;33m=\u001b[0m\u001b[1;34m'公司名称'\u001b[0m\u001b[1;33m)\u001b[0m\u001b[1;33m\u001b[0m\u001b[1;33m\u001b[0m\u001b[0m\n\u001b[0m\u001b[0;32m      2\u001b[0m \u001b[0mold_method_amount_change_info\u001b[0m\u001b[1;33m.\u001b[0m\u001b[0mhead\u001b[0m\u001b[1;33m(\u001b[0m\u001b[1;36m2\u001b[0m\u001b[1;33m)\u001b[0m\u001b[1;33m\u001b[0m\u001b[1;33m\u001b[0m\u001b[0m\n",
      "\u001b[1;31mNameError\u001b[0m: name 'pd' is not defined"
     ]
    }
   ],
   "source": [
    "old_method_amount_change_info = pd.merge(customer_20191014_info, old_method, on='公司名称')\n",
    "old_method_amount_change_info.head(2)"
   ]
  },
  {
   "cell_type": "code",
   "execution_count": 27,
   "metadata": {},
   "outputs": [],
   "source": [
    "old_method_amount_change_info = old_method_amount_change_info[old_method_amount_change_info['白条额度'] < old_method_amount_change_info['new_amount']]"
   ]
  },
  {
   "cell_type": "code",
   "execution_count": 28,
   "metadata": {},
   "outputs": [],
   "source": [
    "old_method_amount_change_info.to_csv('old_method_amount_change_info.csv', encoding='GBK')"
   ]
  },
  {
   "cell_type": "code",
   "execution_count": 29,
   "metadata": {},
   "outputs": [],
   "source": [
    "##########以上为老的额度动态调整方法\n",
    "##########以下为新的额度动态调整方法"
   ]
  },
  {
   "cell_type": "code",
   "execution_count": 8,
   "metadata": {},
   "outputs": [
    {
     "ename": "NameError",
     "evalue": "name 'bt_first_sign_20191013' is not defined",
     "output_type": "error",
     "traceback": [
      "\u001b[1;31m---------------------------------------------------------------------------\u001b[0m",
      "\u001b[1;31mNameError\u001b[0m                                 Traceback (most recent call last)",
      "\u001b[1;32m<ipython-input-8-5b8b662741c4>\u001b[0m in \u001b[0;36m<module>\u001b[1;34m\u001b[0m\n\u001b[1;32m----> 1\u001b[1;33m \u001b[0mbt_first_sign_20191013\u001b[0m\u001b[1;33m.\u001b[0m\u001b[0mhead\u001b[0m\u001b[1;33m(\u001b[0m\u001b[1;36m2\u001b[0m\u001b[1;33m)\u001b[0m\u001b[1;33m\u001b[0m\u001b[1;33m\u001b[0m\u001b[0m\n\u001b[0m",
      "\u001b[1;31mNameError\u001b[0m: name 'bt_first_sign_20191013' is not defined"
     ]
    }
   ],
   "source": [
    "bt_first_sign_20191013.head(2)"
   ]
  },
  {
   "cell_type": "code",
   "execution_count": 31,
   "metadata": {},
   "outputs": [],
   "source": [
    "bt_first_sign_20190910 = pd.read_excel('./new_data/白条首签-20190910.xlsx', sheet_name='白条首签-2019-9-11')\\\n",
    "[['公司名称', '事业部', '钢贸评分', '近6个月月均交易量', '交易间隔']]\n",
    "# crit1 = bt_first_sign_20190910['钢贸评分'] >= 585\n",
    "# crit2 = bt_first_sign_20190910['交易间隔'] <= 45\n",
    "# bt_first_sign_20190910 = bt_first_sign_20190910[crit1 & crit2]"
   ]
  },
  {
   "cell_type": "code",
   "execution_count": 9,
   "metadata": {},
   "outputs": [
    {
     "ename": "NameError",
     "evalue": "name 'bt_first_sign_20190910' is not defined",
     "output_type": "error",
     "traceback": [
      "\u001b[1;31m---------------------------------------------------------------------------\u001b[0m",
      "\u001b[1;31mNameError\u001b[0m                                 Traceback (most recent call last)",
      "\u001b[1;32m<ipython-input-9-1287ec970cde>\u001b[0m in \u001b[0;36m<module>\u001b[1;34m\u001b[0m\n\u001b[1;32m----> 1\u001b[1;33m \u001b[0mbt_first_sign_20190910\u001b[0m\u001b[1;33m.\u001b[0m\u001b[0mhead\u001b[0m\u001b[1;33m(\u001b[0m\u001b[1;36m2\u001b[0m\u001b[1;33m)\u001b[0m\u001b[1;33m\u001b[0m\u001b[1;33m\u001b[0m\u001b[0m\n\u001b[0m",
      "\u001b[1;31mNameError\u001b[0m: name 'bt_first_sign_20190910' is not defined"
     ]
    }
   ],
   "source": [
    "bt_first_sign_20190910.head(2)"
   ]
  },
  {
   "cell_type": "code",
   "execution_count": 10,
   "metadata": {},
   "outputs": [
    {
     "ename": "NameError",
     "evalue": "name 'bt_first_sign_20191013' is not defined",
     "output_type": "error",
     "traceback": [
      "\u001b[1;31m---------------------------------------------------------------------------\u001b[0m",
      "\u001b[1;31mNameError\u001b[0m                                 Traceback (most recent call last)",
      "\u001b[1;32m<ipython-input-10-5b8b662741c4>\u001b[0m in \u001b[0;36m<module>\u001b[1;34m\u001b[0m\n\u001b[1;32m----> 1\u001b[1;33m \u001b[0mbt_first_sign_20191013\u001b[0m\u001b[1;33m.\u001b[0m\u001b[0mhead\u001b[0m\u001b[1;33m(\u001b[0m\u001b[1;36m2\u001b[0m\u001b[1;33m)\u001b[0m\u001b[1;33m\u001b[0m\u001b[1;33m\u001b[0m\u001b[0m\n\u001b[0m",
      "\u001b[1;31mNameError\u001b[0m: name 'bt_first_sign_20191013' is not defined"
     ]
    }
   ],
   "source": [
    "bt_first_sign_20191013.head(2)"
   ]
  },
  {
   "cell_type": "code",
   "execution_count": 34,
   "metadata": {},
   "outputs": [],
   "source": [
    "bt_first_sign_20190910['new_amount1'] = bt_first_sign_20190910[['钢贸评分', '近6个月月均交易量', '事业部']].apply(map_amount, axis=1)"
   ]
  },
  {
   "cell_type": "code",
   "execution_count": 35,
   "metadata": {},
   "outputs": [],
   "source": [
    "bt_first_sign_20191013['new_amount2'] = bt_first_sign_20191013[['钢贸评分', '近6个月月均交易量', '事业部']].apply(map_amount, axis=1)"
   ]
  },
  {
   "cell_type": "code",
   "execution_count": 36,
   "metadata": {},
   "outputs": [],
   "source": [
    "customer_20191014_info = pd.read_excel('用户列表2019-10-14.xls', sheet_name='用户列表2019-10-14')\\\n",
    "[['公司名称', '白条额度', '客户编号', '事业部', '起始日期']]"
   ]
  },
  {
   "cell_type": "code",
   "execution_count": 37,
   "metadata": {},
   "outputs": [],
   "source": [
    "customer_20191014_info['起始日期'] = pd.to_datetime(customer_20191014_info['起始日期'])"
   ]
  },
  {
   "cell_type": "code",
   "execution_count": 38,
   "metadata": {},
   "outputs": [],
   "source": [
    "date_limit2 = datetime.datetime(2019, 9, 1)"
   ]
  },
  {
   "cell_type": "code",
   "execution_count": 39,
   "metadata": {},
   "outputs": [],
   "source": [
    "customer_20191014_info = customer_20191014_info[customer_20191014_info['起始日期'] < date_limit2]"
   ]
  },
  {
   "cell_type": "code",
   "execution_count": 40,
   "metadata": {},
   "outputs": [],
   "source": [
    "customer_20191014_info['白条额度'] = customer_20191014_info['白条额度'] / 10000"
   ]
  },
  {
   "cell_type": "code",
   "execution_count": 11,
   "metadata": {},
   "outputs": [
    {
     "ename": "NameError",
     "evalue": "name 'customer_20191014_info' is not defined",
     "output_type": "error",
     "traceback": [
      "\u001b[1;31m---------------------------------------------------------------------------\u001b[0m",
      "\u001b[1;31mNameError\u001b[0m                                 Traceback (most recent call last)",
      "\u001b[1;32m<ipython-input-11-55265078c2e0>\u001b[0m in \u001b[0;36m<module>\u001b[1;34m\u001b[0m\n\u001b[1;32m----> 1\u001b[1;33m \u001b[0mcustomer_20191014_info\u001b[0m\u001b[1;33m.\u001b[0m\u001b[0mhead\u001b[0m\u001b[1;33m(\u001b[0m\u001b[1;36m2\u001b[0m\u001b[1;33m)\u001b[0m\u001b[1;33m\u001b[0m\u001b[1;33m\u001b[0m\u001b[0m\n\u001b[0m",
      "\u001b[1;31mNameError\u001b[0m: name 'customer_20191014_info' is not defined"
     ]
    }
   ],
   "source": [
    "customer_20191014_info.head(2)"
   ]
  },
  {
   "cell_type": "code",
   "execution_count": 42,
   "metadata": {},
   "outputs": [],
   "source": [
    "merge1 = pd.merge(customer_20191014_info, bt_first_sign_20190910, on='公司名称')\n",
    "new_method_amount_change_info = pd.merge(merge1, bt_first_sign_20191013, on='公司名称')"
   ]
  },
  {
   "cell_type": "code",
   "execution_count": 12,
   "metadata": {},
   "outputs": [
    {
     "ename": "NameError",
     "evalue": "name 'new_method_amount_change_info' is not defined",
     "output_type": "error",
     "traceback": [
      "\u001b[1;31m---------------------------------------------------------------------------\u001b[0m",
      "\u001b[1;31mNameError\u001b[0m                                 Traceback (most recent call last)",
      "\u001b[1;32m<ipython-input-12-ae916e3359a0>\u001b[0m in \u001b[0;36m<module>\u001b[1;34m\u001b[0m\n\u001b[1;32m----> 1\u001b[1;33m \u001b[0mnew_method_amount_change_info\u001b[0m\u001b[1;33m.\u001b[0m\u001b[0mhead\u001b[0m\u001b[1;33m(\u001b[0m\u001b[1;36m2\u001b[0m\u001b[1;33m)\u001b[0m\u001b[1;33m\u001b[0m\u001b[1;33m\u001b[0m\u001b[0m\n\u001b[0m",
      "\u001b[1;31mNameError\u001b[0m: name 'new_method_amount_change_info' is not defined"
     ]
    }
   ],
   "source": [
    "new_method_amount_change_info.head(2)"
   ]
  },
  {
   "cell_type": "code",
   "execution_count": 45,
   "metadata": {},
   "outputs": [
    {
     "name": "stderr",
     "output_type": "stream",
     "text": [
      "D:\\program_files\\Anaconda3\\lib\\site-packages\\ipykernel_launcher.py:4: SettingWithCopyWarning: \n",
      "A value is trying to be set on a copy of a slice from a DataFrame.\n",
      "Try using .loc[row_indexer,col_indexer] = value instead\n",
      "\n",
      "See the caveats in the documentation: http://pandas.pydata.org/pandas-docs/stable/indexing.html#indexing-view-versus-copy\n",
      "  after removing the cwd from sys.path.\n"
     ]
    }
   ],
   "source": [
    "crit_a = new_method_amount_change_info['new_amount1'] > new_method_amount_change_info['白条额度']\n",
    "crit_b = new_method_amount_change_info['new_amount2'] > new_method_amount_change_info['白条额度']\n",
    "new_method_amount_change_info = new_method_amount_change_info[crit_a & crit_b]\n",
    "new_method_amount_change_info['new_amount'] = new_method_amount_change_info['白条额度'] + 5"
   ]
  },
  {
   "cell_type": "code",
   "execution_count": 46,
   "metadata": {},
   "outputs": [],
   "source": [
    "# new_method_amount_change_info[['公司名称', '事业部_x', '钢贸评分_x', '近6个月月均交易量_x', '白条额度', 'new_amount', 'new_amount1', 'new_amount2']].to_csv('new_method_amount_change_info.csv', encoding='GBK')"
   ]
  },
  {
   "cell_type": "code",
   "execution_count": 47,
   "metadata": {},
   "outputs": [],
   "source": [
    "new_method_amount_change_info.to_csv('new_method_amount_change_info.csv', encoding='GBK')"
   ]
  },
  {
   "cell_type": "code",
   "execution_count": 48,
   "metadata": {},
   "outputs": [
    {
     "data": {
      "text/plain": [
       "556"
      ]
     },
     "execution_count": 48,
     "metadata": {},
     "output_type": "execute_result"
    }
   ],
   "source": [
    "len(new_method_amount_change_info)"
   ]
  },
  {
   "cell_type": "code",
   "execution_count": 45,
   "metadata": {},
   "outputs": [],
   "source": []
  },
  {
   "cell_type": "code",
   "execution_count": null,
   "metadata": {},
   "outputs": [],
   "source": []
  },
  {
   "cell_type": "code",
   "execution_count": null,
   "metadata": {},
   "outputs": [],
   "source": []
  },
  {
   "cell_type": "code",
   "execution_count": 49,
   "metadata": {},
   "outputs": [],
   "source": [
    "customer_20191014_info = pd.read_excel('用户列表2019-10-14.xls', sheet_name='用户列表2019-10-14')\\\n",
    "[['公司名称', '白条额度', '客户编号', '事业部']]"
   ]
  },
  {
   "cell_type": "code",
   "execution_count": 50,
   "metadata": {},
   "outputs": [],
   "source": [
    "customer_focus = list(customer_20191014_info['公司名称'].values)"
   ]
  },
  {
   "cell_type": "code",
   "execution_count": 51,
   "metadata": {},
   "outputs": [],
   "source": [
    "customer_department_dict = dict(customer_20191014_info[['公司名称', '事业部']].values)"
   ]
  },
  {
   "cell_type": "code",
   "execution_count": 52,
   "metadata": {},
   "outputs": [
    {
     "data": {
      "text/plain": [
       "2367"
      ]
     },
     "execution_count": 52,
     "metadata": {},
     "output_type": "execute_result"
    }
   ],
   "source": [
    "len(customer_focus)"
   ]
  },
  {
   "cell_type": "code",
   "execution_count": 53,
   "metadata": {},
   "outputs": [],
   "source": [
    "MALL = pd.read_csv('mall.csv')\n",
    "MALL = MALL[MALL['客户名称'].isin(customer_focus)]\n",
    "MALL['实提日期'] = pd.to_datetime(MALL['实提日期'])"
   ]
  },
  {
   "cell_type": "code",
   "execution_count": 13,
   "metadata": {
    "scrolled": true
   },
   "outputs": [
    {
     "ename": "NameError",
     "evalue": "name 'MALL' is not defined",
     "output_type": "error",
     "traceback": [
      "\u001b[1;31m---------------------------------------------------------------------------\u001b[0m",
      "\u001b[1;31mNameError\u001b[0m                                 Traceback (most recent call last)",
      "\u001b[1;32m<ipython-input-13-721806349b28>\u001b[0m in \u001b[0;36m<module>\u001b[1;34m\u001b[0m\n\u001b[1;32m----> 1\u001b[1;33m \u001b[0mMALL\u001b[0m\u001b[1;33m.\u001b[0m\u001b[0mhead\u001b[0m\u001b[1;33m(\u001b[0m\u001b[1;36m2\u001b[0m\u001b[1;33m)\u001b[0m\u001b[1;33m\u001b[0m\u001b[1;33m\u001b[0m\u001b[0m\n\u001b[0m",
      "\u001b[1;31mNameError\u001b[0m: name 'MALL' is not defined"
     ]
    }
   ],
   "source": [
    "MALL.head(2)"
   ]
  },
  {
   "cell_type": "code",
   "execution_count": 55,
   "metadata": {},
   "outputs": [
    {
     "data": {
      "text/plain": [
       "datetime.datetime(2019, 10, 1, 0, 0)"
      ]
     },
     "execution_count": 55,
     "metadata": {},
     "output_type": "execute_result"
    }
   ],
   "source": [
    "the_now_list = [datetime.datetime(2019, 2, 1) + relativedelta(months=i) for i in range(9)]\n",
    "the_now = the_now_list[-1]\n",
    "the_now"
   ]
  },
  {
   "cell_type": "code",
   "execution_count": 62,
   "metadata": {},
   "outputs": [
    {
     "name": "stdout",
     "output_type": "stream",
     "text": [
      "2019-02-01 00:00:00\n",
      "------------------\n"
     ]
    }
   ],
   "source": [
    "for the_now in the_now_list:\n",
    "    print(the_now)\n",
    "    start, end = get_start_and_end(the_now)\n",
    "#     score_wgt_dpt = get_score_wgt_dpt(start, end)\n",
    "    print('------------------')\n",
    "    break"
   ]
  },
  {
   "cell_type": "code",
   "execution_count": null,
   "metadata": {},
   "outputs": [],
   "source": []
  },
  {
   "cell_type": "code",
   "execution_count": 63,
   "metadata": {},
   "outputs": [
    {
     "name": "stdout",
     "output_type": "stream",
     "text": [
      "2019-02-01 00:00:00\n",
      "2102\n",
      "----------\n",
      "2019-03-01 00:00:00\n",
      "2107\n",
      "----------\n",
      "2019-04-01 00:00:00\n",
      "2150\n",
      "----------\n",
      "2019-05-01 00:00:00\n",
      "2190\n",
      "----------\n",
      "2019-06-01 00:00:00\n",
      "2215\n",
      "----------\n",
      "2019-07-01 00:00:00\n",
      "2192\n",
      "----------\n",
      "2019-08-01 00:00:00\n",
      "2180\n",
      "----------\n",
      "2019-09-01 00:00:00\n",
      "2196\n",
      "----------\n",
      "2019-10-01 00:00:00\n",
      "2170\n",
      "----------\n"
     ]
    }
   ],
   "source": [
    "amount_lst = []\n",
    "for the_now in the_now_list:\n",
    "    print(the_now)\n",
    "    \n",
    "    start, end = get_start_and_end(the_now)\n",
    "    \n",
    "    score_wgt_dpt = get_score_wgt_dpt(start, end)\n",
    "    \n",
    "    the_amount = score_wgt_dpt.apply(map_amount, axis=1).dropna()\n",
    "    the_amount.name = the_now\n",
    "    \n",
    "    print(len(the_amount))\n",
    "    \n",
    "    amount_lst.append(the_amount)\n",
    "    \n",
    "    print('----------')"
   ]
  },
  {
   "cell_type": "code",
   "execution_count": 64,
   "metadata": {},
   "outputs": [],
   "source": [
    "amount_change_df = pd.concat(amount_lst, axis=1, join='inner')"
   ]
  },
  {
   "cell_type": "code",
   "execution_count": 65,
   "metadata": {},
   "outputs": [
    {
     "data": {
      "text/plain": [
       "1778"
      ]
     },
     "execution_count": 65,
     "metadata": {},
     "output_type": "execute_result"
    }
   ],
   "source": [
    "len(amount_change_df)"
   ]
  },
  {
   "cell_type": "code",
   "execution_count": 14,
   "metadata": {},
   "outputs": [
    {
     "ename": "NameError",
     "evalue": "name 'amount_change_df' is not defined",
     "output_type": "error",
     "traceback": [
      "\u001b[1;31m---------------------------------------------------------------------------\u001b[0m",
      "\u001b[1;31mNameError\u001b[0m                                 Traceback (most recent call last)",
      "\u001b[1;32m<ipython-input-14-91b4c8def67b>\u001b[0m in \u001b[0;36m<module>\u001b[1;34m\u001b[0m\n\u001b[1;32m----> 1\u001b[1;33m \u001b[0mamount_change_df\u001b[0m\u001b[1;33m.\u001b[0m\u001b[0mhead\u001b[0m\u001b[1;33m(\u001b[0m\u001b[1;36m2\u001b[0m\u001b[1;33m)\u001b[0m\u001b[1;33m\u001b[0m\u001b[1;33m\u001b[0m\u001b[0m\n\u001b[0m",
      "\u001b[1;31mNameError\u001b[0m: name 'amount_change_df' is not defined"
     ]
    }
   ],
   "source": [
    "amount_change_df.head(2)"
   ]
  },
  {
   "cell_type": "code",
   "execution_count": null,
   "metadata": {},
   "outputs": [],
   "source": [
    "上海中焦企业发展有限公司\t20.0\t20.0\t20.0\t20.0\t20.0\t20.0\t20.0\t30.0\t30.0"
   ]
  },
  {
   "cell_type": "code",
   "execution_count": 68,
   "metadata": {},
   "outputs": [
    {
     "data": {
      "text/plain": [
       "2019-02-01    20.0\n",
       "2019-03-01    20.0\n",
       "Name: 上海中焦企业发展有限公司, dtype: float64"
      ]
     },
     "execution_count": 68,
     "metadata": {},
     "output_type": "execute_result"
    }
   ],
   "source": [
    "amount_change_df.loc['上海中焦企业发展有限公司', :].head(2)"
   ]
  },
  {
   "cell_type": "code",
   "execution_count": 69,
   "metadata": {},
   "outputs": [],
   "source": [
    "# amount_change_df.loc['舟山博胜贸易有限公司', :]"
   ]
  },
  {
   "cell_type": "code",
   "execution_count": 201,
   "metadata": {},
   "outputs": [],
   "source": [
    "amount_change_df.to_csv('amount_change.csv', encoding='GBK')"
   ]
  },
  {
   "cell_type": "code",
   "execution_count": 15,
   "metadata": {},
   "outputs": [
    {
     "ename": "NameError",
     "evalue": "name 'amount_change_df' is not defined",
     "output_type": "error",
     "traceback": [
      "\u001b[1;31m---------------------------------------------------------------------------\u001b[0m",
      "\u001b[1;31mNameError\u001b[0m                                 Traceback (most recent call last)",
      "\u001b[1;32m<ipython-input-15-a997edf96dc8>\u001b[0m in \u001b[0;36m<module>\u001b[1;34m\u001b[0m\n\u001b[1;32m----> 1\u001b[1;33m \u001b[0mlist\u001b[0m\u001b[1;33m(\u001b[0m\u001b[0mamount_change_df\u001b[0m\u001b[1;33m.\u001b[0m\u001b[0mindex\u001b[0m\u001b[1;33m)\u001b[0m\u001b[1;33m[\u001b[0m\u001b[1;33m:\u001b[0m\u001b[1;36m2\u001b[0m\u001b[1;33m]\u001b[0m\u001b[1;33m\u001b[0m\u001b[1;33m\u001b[0m\u001b[0m\n\u001b[0m",
      "\u001b[1;31mNameError\u001b[0m: name 'amount_change_df' is not defined"
     ]
    }
   ],
   "source": [
    "list(amount_change_df.index)[:2]"
   ]
  },
  {
   "cell_type": "code",
   "execution_count": 89,
   "metadata": {},
   "outputs": [],
   "source": []
  },
  {
   "cell_type": "code",
   "execution_count": 72,
   "metadata": {},
   "outputs": [],
   "source": [
    "n = 0\n",
    "company_amount_dict = {}\n",
    "for company in  list(amount_change_df.index):\n",
    "    company_amount_list = []\n",
    "    sers = amount_change_df.loc[company, :]\n",
    "    amount = sers.values[0]\n",
    "    the_iter = iter(range(1, len(sers.values)-1))\n",
    "    for i in the_iter:\n",
    "        company_amount_array = sers.values[i: i+2]\n",
    "        if sum([i > amount for i in company_amount_array]) == 2:\n",
    "            try:\n",
    "                the_iter.__next__()\n",
    "            except:\n",
    "                # print(company)\n",
    "                company_amount_list.append(amount)\n",
    "                n += 1\n",
    "                amount += 5\n",
    "                company_amount_list.append(amount)\n",
    "                continue\n",
    "            amount += 5\n",
    "    company_amount_dict[company] = company_amount_list"
   ]
  },
  {
   "cell_type": "code",
   "execution_count": 73,
   "metadata": {},
   "outputs": [
    {
     "data": {
      "text/plain": [
       "1778"
      ]
     },
     "execution_count": 73,
     "metadata": {},
     "output_type": "execute_result"
    }
   ],
   "source": [
    "len(company_amount_dict)"
   ]
  },
  {
   "cell_type": "code",
   "execution_count": 83,
   "metadata": {},
   "outputs": [],
   "source": [
    "# company_amount_dict"
   ]
  },
  {
   "cell_type": "code",
   "execution_count": 16,
   "metadata": {},
   "outputs": [
    {
     "ename": "NameError",
     "evalue": "name 'pd' is not defined",
     "output_type": "error",
     "traceback": [
      "\u001b[1;31m---------------------------------------------------------------------------\u001b[0m",
      "\u001b[1;31mNameError\u001b[0m                                 Traceback (most recent call last)",
      "\u001b[1;32m<ipython-input-16-ce522f0fea0c>\u001b[0m in \u001b[0;36m<module>\u001b[1;34m\u001b[0m\n\u001b[1;32m----> 1\u001b[1;33m \u001b[0mpd\u001b[0m\u001b[1;33m.\u001b[0m\u001b[0mDataFrame\u001b[0m\u001b[1;33m(\u001b[0m\u001b[1;33m[\u001b[0m\u001b[1;33m(\u001b[0m\u001b[0mk\u001b[0m\u001b[1;33m,\u001b[0m \u001b[0mv\u001b[0m\u001b[1;33m)\u001b[0m \u001b[1;32mfor\u001b[0m \u001b[0mk\u001b[0m\u001b[1;33m,\u001b[0m \u001b[0mv\u001b[0m \u001b[1;32min\u001b[0m \u001b[0mcompany_amount_dict\u001b[0m\u001b[1;33m.\u001b[0m\u001b[0mitems\u001b[0m\u001b[1;33m(\u001b[0m\u001b[1;33m)\u001b[0m \u001b[1;32mif\u001b[0m \u001b[0mlen\u001b[0m\u001b[1;33m(\u001b[0m\u001b[0mv\u001b[0m\u001b[1;33m)\u001b[0m \u001b[1;33m>\u001b[0m \u001b[1;36m0\u001b[0m\u001b[1;33m]\u001b[0m\u001b[1;33m)\u001b[0m\u001b[1;33m.\u001b[0m\u001b[0mhead\u001b[0m\u001b[1;33m(\u001b[0m\u001b[1;36m2\u001b[0m\u001b[1;33m)\u001b[0m\u001b[1;33m\u001b[0m\u001b[1;33m\u001b[0m\u001b[0m\n\u001b[0m",
      "\u001b[1;31mNameError\u001b[0m: name 'pd' is not defined"
     ]
    }
   ],
   "source": [
    "pd.DataFrame([(k, v) for k, v in company_amount_dict.items() if len(v) > 0]).head(2)"
   ]
  },
  {
   "cell_type": "code",
   "execution_count": 86,
   "metadata": {},
   "outputs": [],
   "source": [
    "out1 = pd.DataFrame([(k, v) for k, v in company_amount_dict.items() if len(v) > 0])\n",
    "out1.to_csv('out1.csv', encoding='GBK')"
   ]
  },
  {
   "cell_type": "code",
   "execution_count": null,
   "metadata": {},
   "outputs": [],
   "source": []
  },
  {
   "cell_type": "code",
   "execution_count": null,
   "metadata": {},
   "outputs": [],
   "source": []
  },
  {
   "cell_type": "code",
   "execution_count": null,
   "metadata": {},
   "outputs": [],
   "source": []
  },
  {
   "cell_type": "code",
   "execution_count": 87,
   "metadata": {},
   "outputs": [],
   "source": [
    "# ①：以上为风控的调额规则的10月份结果\n",
    "# ②：以下为白条的调额规则10月份的结果\n",
    "# 例如舟山博胜贸易有限公司 一要提，二不用"
   ]
  },
  {
   "cell_type": "code",
   "execution_count": 88,
   "metadata": {},
   "outputs": [
    {
     "name": "stdout",
     "output_type": "stream",
     "text": [
      "2019-09-01 00:00:00\n",
      "0\n",
      "----------\n",
      "2019-10-01 00:00:00\n",
      "0\n",
      "----------\n"
     ]
    }
   ],
   "source": [
    "amount_lst = []\n",
    "for the_now in the_now_list[-2:]:\n",
    "    print(the_now)\n",
    "    \n",
    "    start, end = get_start_and_end(the_now)\n",
    "    \n",
    "    score_wgt_dpt = get_wgt_dpt_for_bt_rule_amount(start, end)\n",
    "    \n",
    "    the_amount = score_wgt_dpt.apply(map_amount_for_bt_rule, axis=1).dropna()\n",
    "    the_amount.name = the_now\n",
    "    \n",
    "    print(len(the_amount))\n",
    "    \n",
    "    amount_lst.append(the_amount)\n",
    "    \n",
    "    print('----------')"
   ]
  },
  {
   "cell_type": "code",
   "execution_count": 89,
   "metadata": {},
   "outputs": [],
   "source": [
    "amount_change_df = pd.concat(amount_lst, axis=1, join='inner')"
   ]
  },
  {
   "cell_type": "code",
   "execution_count": 90,
   "metadata": {},
   "outputs": [
    {
     "data": {
      "text/plain": [
       "0"
      ]
     },
     "execution_count": 90,
     "metadata": {},
     "output_type": "execute_result"
    }
   ],
   "source": [
    "len(amount_change_df)"
   ]
  },
  {
   "cell_type": "code",
   "execution_count": 91,
   "metadata": {},
   "outputs": [],
   "source": [
    "amount_change_df['diff'] = amount_change_df.diff(axis=1).iloc[:, -1]"
   ]
  },
  {
   "cell_type": "code",
   "execution_count": 92,
   "metadata": {},
   "outputs": [
    {
     "data": {
      "text/html": [
       "<div>\n",
       "<style scoped>\n",
       "    .dataframe tbody tr th:only-of-type {\n",
       "        vertical-align: middle;\n",
       "    }\n",
       "\n",
       "    .dataframe tbody tr th {\n",
       "        vertical-align: top;\n",
       "    }\n",
       "\n",
       "    .dataframe thead th {\n",
       "        text-align: right;\n",
       "    }\n",
       "</style>\n",
       "<table border=\"1\" class=\"dataframe\">\n",
       "  <thead>\n",
       "    <tr style=\"text-align: right;\">\n",
       "      <th></th>\n",
       "      <th>2019-09-01 00:00:00</th>\n",
       "      <th>2019-10-01 00:00:00</th>\n",
       "      <th>diff</th>\n",
       "    </tr>\n",
       "    <tr>\n",
       "      <th>客户名称</th>\n",
       "      <th></th>\n",
       "      <th></th>\n",
       "      <th></th>\n",
       "    </tr>\n",
       "  </thead>\n",
       "  <tbody>\n",
       "  </tbody>\n",
       "</table>\n",
       "</div>"
      ],
      "text/plain": [
       "Empty DataFrame\n",
       "Columns: [2019-09-01 00:00:00, 2019-10-01 00:00:00, diff]\n",
       "Index: []"
      ]
     },
     "execution_count": 92,
     "metadata": {},
     "output_type": "execute_result"
    }
   ],
   "source": [
    "amount_change_df[amount_change_df['diff'] > 0]"
   ]
  },
  {
   "cell_type": "code",
   "execution_count": 93,
   "metadata": {},
   "outputs": [],
   "source": [
    "out2 = amount_change_df[amount_change_df['diff'] > 0]\n",
    "out2.to_csv('out2.csv', encoding='GBK')"
   ]
  },
  {
   "cell_type": "code",
   "execution_count": 94,
   "metadata": {},
   "outputs": [
    {
     "data": {
      "text/plain": [
       "set()"
      ]
     },
     "execution_count": 94,
     "metadata": {},
     "output_type": "execute_result"
    }
   ],
   "source": [
    "set(out1.iloc[:, 0].values) & set(out2.index)"
   ]
  },
  {
   "cell_type": "code",
   "execution_count": null,
   "metadata": {},
   "outputs": [],
   "source": []
  },
  {
   "cell_type": "code",
   "execution_count": 95,
   "metadata": {},
   "outputs": [
    {
     "data": {
      "text/plain": [
       "datetime.datetime(2019, 10, 1, 0, 0)"
      ]
     },
     "execution_count": 95,
     "metadata": {},
     "output_type": "execute_result"
    }
   ],
   "source": [
    "the_now = the_now_list[-1]\n",
    "the_now"
   ]
  },
  {
   "cell_type": "code",
   "execution_count": 96,
   "metadata": {},
   "outputs": [
    {
     "name": "stdout",
     "output_type": "stream",
     "text": [
      "0\n"
     ]
    }
   ],
   "source": [
    "start, end = get_start_and_end(the_now)\n",
    "\n",
    "score_wgt_dpt = get_wgt_dpt_for_bt_rule_amount(start, end)\n",
    "\n",
    "the_amount = score_wgt_dpt.apply(map_amount_for_bt_rule, axis=1).dropna()\n",
    "the_amount.name = the_now\n",
    "\n",
    "print(len(the_amount))\n",
    "\n",
    "# amount_lst.append(the_amount)\n",
    "\n",
    "# print('----------')"
   ]
  },
  {
   "cell_type": "code",
   "execution_count": 98,
   "metadata": {},
   "outputs": [
    {
     "data": {
      "text/html": [
       "<div>\n",
       "<style scoped>\n",
       "    .dataframe tbody tr th:only-of-type {\n",
       "        vertical-align: middle;\n",
       "    }\n",
       "\n",
       "    .dataframe tbody tr th {\n",
       "        vertical-align: top;\n",
       "    }\n",
       "\n",
       "    .dataframe thead th {\n",
       "        text-align: right;\n",
       "    }\n",
       "</style>\n",
       "<table border=\"1\" class=\"dataframe\">\n",
       "  <thead>\n",
       "    <tr style=\"text-align: right;\">\n",
       "      <th></th>\n",
       "      <th>score</th>\n",
       "      <th>实提吨数</th>\n",
       "      <th>实提吨数_3</th>\n",
       "      <th>department</th>\n",
       "    </tr>\n",
       "    <tr>\n",
       "      <th>客户名称</th>\n",
       "      <th></th>\n",
       "      <th></th>\n",
       "      <th></th>\n",
       "      <th></th>\n",
       "    </tr>\n",
       "  </thead>\n",
       "  <tbody>\n",
       "    <tr>\n",
       "      <th>一皓能源科技（上海）有限公司</th>\n",
       "      <td>602</td>\n",
       "      <td>151.676833</td>\n",
       "      <td>91.366667</td>\n",
       "      <td>热卷</td>\n",
       "    </tr>\n",
       "    <tr>\n",
       "      <th>上海一锻机床制造有限公司</th>\n",
       "      <td>592</td>\n",
       "      <td>94.459667</td>\n",
       "      <td>72.852667</td>\n",
       "      <td>中板</td>\n",
       "    </tr>\n",
       "  </tbody>\n",
       "</table>\n",
       "</div>"
      ],
      "text/plain": [
       "                score        实提吨数     实提吨数_3 department\n",
       "客户名称                                                   \n",
       "一皓能源科技（上海）有限公司    602  151.676833  91.366667         热卷\n",
       "上海一锻机床制造有限公司      592   94.459667  72.852667         中板"
      ]
     },
     "execution_count": 98,
     "metadata": {},
     "output_type": "execute_result"
    }
   ],
   "source": [
    "score_wgt_dpt.head(2)"
   ]
  },
  {
   "cell_type": "code",
   "execution_count": 137,
   "metadata": {
    "scrolled": true
   },
   "outputs": [
    {
     "data": {
      "text/plain": [
       "2228"
      ]
     },
     "execution_count": 137,
     "metadata": {},
     "output_type": "execute_result"
    }
   ],
   "source": [
    "len(score_wgt_dpt)"
   ]
  },
  {
   "cell_type": "code",
   "execution_count": 139,
   "metadata": {},
   "outputs": [
    {
     "data": {
      "text/plain": [
       "1970"
      ]
     },
     "execution_count": 139,
     "metadata": {},
     "output_type": "execute_result"
    }
   ],
   "source": [
    "len(score_wgt_dpt[score_wgt_dpt['score'] >= 585])"
   ]
  },
  {
   "cell_type": "code",
   "execution_count": null,
   "metadata": {},
   "outputs": [],
   "source": []
  },
  {
   "cell_type": "code",
   "execution_count": 103,
   "metadata": {},
   "outputs": [
    {
     "data": {
      "text/plain": [
       "136"
      ]
     },
     "execution_count": 103,
     "metadata": {},
     "output_type": "execute_result"
    }
   ],
   "source": [
    "n"
   ]
  },
  {
   "cell_type": "code",
   "execution_count": 100,
   "metadata": {},
   "outputs": [],
   "source": [
    "# amount_change_df.loc['马鞍山市晨钢商贸有限责任公司', :]"
   ]
  },
  {
   "cell_type": "code",
   "execution_count": 111,
   "metadata": {},
   "outputs": [
    {
     "name": "stdout",
     "output_type": "stream",
     "text": [
      "25.0\n",
      "2222222222\n",
      "30.0\n",
      "2222222222\n",
      "35.0\n",
      "2222222222\n",
      "40.0\n",
      "111111111\n"
     ]
    }
   ],
   "source": [
    "company_amount_list = []\n",
    "sers = amount_change_df.loc['马鞍山市晨钢商贸有限责任公司', :]\n",
    "amount = sers.values[0]\n",
    "the_iter = iter(range(1, len(sers.values)-1))\n",
    "for i in the_iter:\n",
    "    company_amount_array = sers.values[i: i+2]\n",
    "    if sum([i > amount for i in company_amount_array]) == 2:\n",
    "        try:\n",
    "            the_iter.__next__()\n",
    "        except:\n",
    "            company_amount_list.append(amount)\n",
    "            amount += 5\n",
    "            print(amount)\n",
    "            company_amount_list.append(amount)\n",
    "            print('111111111')\n",
    "            continue\n",
    "        amount += 5\n",
    "        print(amount)\n",
    "        print('2222222222')"
   ]
  },
  {
   "cell_type": "code",
   "execution_count": 112,
   "metadata": {},
   "outputs": [
    {
     "data": {
      "text/plain": [
       "[35.0, 40.0]"
      ]
     },
     "execution_count": 112,
     "metadata": {},
     "output_type": "execute_result"
    }
   ],
   "source": [
    "company_amount_list"
   ]
  },
  {
   "cell_type": "code",
   "execution_count": null,
   "metadata": {},
   "outputs": [],
   "source": []
  },
  {
   "cell_type": "code",
   "execution_count": 17,
   "metadata": {},
   "outputs": [
    {
     "ename": "NameError",
     "evalue": "name 'MALL' is not defined",
     "output_type": "error",
     "traceback": [
      "\u001b[1;31m---------------------------------------------------------------------------\u001b[0m",
      "\u001b[1;31mNameError\u001b[0m                                 Traceback (most recent call last)",
      "\u001b[1;32m<ipython-input-17-721806349b28>\u001b[0m in \u001b[0;36m<module>\u001b[1;34m\u001b[0m\n\u001b[1;32m----> 1\u001b[1;33m \u001b[0mMALL\u001b[0m\u001b[1;33m.\u001b[0m\u001b[0mhead\u001b[0m\u001b[1;33m(\u001b[0m\u001b[1;36m2\u001b[0m\u001b[1;33m)\u001b[0m\u001b[1;33m\u001b[0m\u001b[1;33m\u001b[0m\u001b[0m\n\u001b[0m",
      "\u001b[1;31mNameError\u001b[0m: name 'MALL' is not defined"
     ]
    }
   ],
   "source": [
    "MALL.head(2)"
   ]
  },
  {
   "cell_type": "code",
   "execution_count": 102,
   "metadata": {},
   "outputs": [
    {
     "data": {
      "text/plain": [
       "'2018-09-02 00:00:00'"
      ]
     },
     "execution_count": 102,
     "metadata": {},
     "output_type": "execute_result"
    }
   ],
   "source": [
    "start"
   ]
  },
  {
   "cell_type": "code",
   "execution_count": 103,
   "metadata": {},
   "outputs": [
    {
     "data": {
      "text/plain": [
       "'2019-09-30 23:59:59'"
      ]
     },
     "execution_count": 103,
     "metadata": {},
     "output_type": "execute_result"
    }
   ],
   "source": [
    "end"
   ]
  },
  {
   "cell_type": "code",
   "execution_count": 104,
   "metadata": {},
   "outputs": [],
   "source": [
    "crit1 = MALL['实提日期'] > start\n",
    "crit2 = MALL['实提日期'] < end"
   ]
  },
  {
   "cell_type": "code",
   "execution_count": 105,
   "metadata": {},
   "outputs": [],
   "source": [
    "sale_df = MALL[crit1 & crit2]"
   ]
  },
  {
   "cell_type": "code",
   "execution_count": 106,
   "metadata": {},
   "outputs": [
    {
     "data": {
      "text/plain": [
       "219900"
      ]
     },
     "execution_count": 106,
     "metadata": {},
     "output_type": "execute_result"
    }
   ],
   "source": [
    "len(sale_df)"
   ]
  },
  {
   "cell_type": "code",
   "execution_count": 18,
   "metadata": {},
   "outputs": [
    {
     "ename": "NameError",
     "evalue": "name 'get_score_wgt_dpt' is not defined",
     "output_type": "error",
     "traceback": [
      "\u001b[1;31m---------------------------------------------------------------------------\u001b[0m",
      "\u001b[1;31mNameError\u001b[0m                                 Traceback (most recent call last)",
      "\u001b[1;32m<ipython-input-18-9f1dd6ac3170>\u001b[0m in \u001b[0;36m<module>\u001b[1;34m\u001b[0m\n\u001b[1;32m----> 1\u001b[1;33m \u001b[0mget_score_wgt_dpt\u001b[0m\u001b[1;33m(\u001b[0m\u001b[0mstart\u001b[0m\u001b[1;33m,\u001b[0m \u001b[0mend\u001b[0m\u001b[1;33m)\u001b[0m\u001b[1;33m.\u001b[0m\u001b[0mhead\u001b[0m\u001b[1;33m(\u001b[0m\u001b[1;36m2\u001b[0m\u001b[1;33m)\u001b[0m\u001b[1;33m\u001b[0m\u001b[1;33m\u001b[0m\u001b[0m\n\u001b[0m",
      "\u001b[1;31mNameError\u001b[0m: name 'get_score_wgt_dpt' is not defined"
     ]
    }
   ],
   "source": [
    "get_score_wgt_dpt(start, end).head(2)"
   ]
  },
  {
   "cell_type": "code",
   "execution_count": 19,
   "metadata": {},
   "outputs": [
    {
     "ename": "NameError",
     "evalue": "name 'get_wgt_dpt_for_bt_rule_amount' is not defined",
     "output_type": "error",
     "traceback": [
      "\u001b[1;31m---------------------------------------------------------------------------\u001b[0m",
      "\u001b[1;31mNameError\u001b[0m                                 Traceback (most recent call last)",
      "\u001b[1;32m<ipython-input-19-13d5d2fa1885>\u001b[0m in \u001b[0;36m<module>\u001b[1;34m\u001b[0m\n\u001b[1;32m----> 1\u001b[1;33m \u001b[0mget_wgt_dpt_for_bt_rule_amount\u001b[0m\u001b[1;33m(\u001b[0m\u001b[0mstart\u001b[0m\u001b[1;33m,\u001b[0m \u001b[0mend\u001b[0m\u001b[1;33m)\u001b[0m\u001b[1;33m.\u001b[0m\u001b[0mhead\u001b[0m\u001b[1;33m(\u001b[0m\u001b[1;36m2\u001b[0m\u001b[1;33m)\u001b[0m\u001b[1;33m\u001b[0m\u001b[1;33m\u001b[0m\u001b[0m\n\u001b[0m",
      "\u001b[1;31mNameError\u001b[0m: name 'get_wgt_dpt_for_bt_rule_amount' is not defined"
     ]
    }
   ],
   "source": [
    "get_wgt_dpt_for_bt_rule_amount(start, end).head(2)"
   ]
  },
  {
   "cell_type": "code",
   "execution_count": null,
   "metadata": {},
   "outputs": [],
   "source": []
  },
  {
   "cell_type": "code",
   "execution_count": 58,
   "metadata": {},
   "outputs": [],
   "source": [
    "def get_wgt_dpt_for_bt_rule_amount(the_start, the_end):\n",
    "    crit1 = MALL['实提日期'] > the_start\n",
    "    crit2 = MALL['实提日期'] < the_end\n",
    "    \n",
    "    sale_df = MALL[crit1 & crit2]\n",
    "\n",
    "    cs = CalScore_New(sale_df)\n",
    "    sale_score = cs.calculate_sale_score(the_now)\n",
    "    sale_score_to_write = sale_score[['score']]\n",
    "\n",
    "    weight_mean = cs.calculate_weight_mean(the_now)\n",
    "    weight_mean_to_write = weight_mean[['实提吨数']]\n",
    "    \n",
    "    weight_mean_3 = cs.calculate_weight_mean_3_month_for_bt_rule_amount(the_now)\n",
    "    weight_mean_to_write_3 = weight_mean_3[['实提吨数_3']]\n",
    "\n",
    "    the_concat = pd.concat([sale_score_to_write, weight_mean_to_write, weight_mean_to_write_3], join='inner', axis=1)\n",
    "    the_concat['department'] = the_concat.index.map(customer_department_dict)\n",
    "    \n",
    "    return the_concat"
   ]
  },
  {
   "cell_type": "code",
   "execution_count": 59,
   "metadata": {},
   "outputs": [],
   "source": [
    "def get_score_wgt_dpt(the_start, the_end):\n",
    "    crit1 = MALL['实提日期'] > the_start\n",
    "    crit2 = MALL['实提日期'] < the_end\n",
    "    \n",
    "    sale_df = MALL[crit1 & crit2]\n",
    "\n",
    "    cs = CalScore_New(sale_df)\n",
    "    sale_score = cs.calculate_sale_score(the_now)\n",
    "    sale_score_to_write = sale_score[['score']]\n",
    "\n",
    "    weight_mean = cs.calculate_weight_mean(the_now)\n",
    "    weight_mean_to_write = weight_mean[['实提吨数']]\n",
    "\n",
    "    the_concat = pd.concat([sale_score_to_write, weight_mean_to_write], join='inner', axis=1)\n",
    "    the_concat['department'] = the_concat.index.map(customer_department_dict)\n",
    "    \n",
    "    return the_concat"
   ]
  },
  {
   "cell_type": "code",
   "execution_count": 60,
   "metadata": {},
   "outputs": [],
   "source": [
    "def get_start_and_end(the_now):\n",
    "    the_end_gross = the_now - relativedelta(months=+1)\n",
    "    last_day_of_month = calendar.monthrange(the_end_gross.year, the_end_gross.month)[1]\n",
    "    the_end = datetime.datetime(the_end_gross.year, the_end_gross.month, last_day_of_month, 23, 59, 59)\n",
    "    the_end = the_end.strftime(\"%Y-%m-%d %H:%M:%S\")\n",
    "\n",
    "    # TODO:should change\n",
    "    # CAUTION +1 will cause bug, eg:20190731\n",
    "    the_start_gross = the_now - relativedelta(months=+13)\n",
    "    the_start = datetime.datetime(the_start_gross.year, the_start_gross.month, the_start_gross.day+1)\n",
    "    the_start = the_start.strftime(\"%Y-%m-%d %H:%M:%S\")\n",
    "    \n",
    "    return the_start, the_end"
   ]
  },
  {
   "cell_type": "code",
   "execution_count": 39,
   "metadata": {},
   "outputs": [],
   "source": []
  },
  {
   "cell_type": "code",
   "execution_count": 61,
   "metadata": {},
   "outputs": [],
   "source": [
    "# -*- coding: utf-8 -*-\n",
    "# sum_sale重新写\n",
    "import math\n",
    "import datetime\n",
    "import pandas as pd\n",
    "from dateutil.relativedelta import relativedelta\n",
    "\n",
    "\n",
    "class CalScore_New:\n",
    "\n",
    "    def __init__(self, DATA):\n",
    "        self.DATA = DATA\n",
    "        self.attenuation_coefficient_list = [1.25, 1.15, 1.05, 0.95, 0.85, 0.75, 0.55, 0.45, 0.35, 0.25, 0.15, 0.05]\n",
    "\n",
    "    def calculate_sale_score(self, dt):\n",
    "        # TODO:add column -> expected_amount\n",
    "        # TODO:change it\n",
    "        time = dt\n",
    "        time_the_end_gross = time - relativedelta(months=+1)\n",
    "        time_the_end = datetime.datetime(time_the_end_gross.year, time_the_end_gross.month, 1)\n",
    "        time_month_list = [time_the_end - relativedelta(months=x) for x in range(12)]\n",
    "        time_month_to_attenuation_coefficient = dict(zip(time_month_list, self.attenuation_coefficient_list))\n",
    "\n",
    "        data = self.DATA\n",
    "        data2 = data.copy()\n",
    "        data2.loc[:, '实提日期'] = pd.to_datetime(data2['实提日期'])\n",
    "        data2 = data2.sort_values(by=['实提日期'])\n",
    "        data2['实提日期'] = data2['实提日期'].map(lambda x: datetime.datetime(x.year, x.month, 1))\n",
    "\n",
    "        grouped = data2.groupby(['客户名称', '实提日期']).sum().reset_index()\n",
    "        grouped['attenuation_coefficient'] = grouped['实提日期'].map(time_month_to_attenuation_coefficient)\n",
    "        grouped['product'] = grouped['实提金额'] * grouped['attenuation_coefficient']\n",
    "\n",
    "        final_grouped = pd.DataFrame(grouped.groupby('客户名称').sum()['product'])\n",
    "        final_grouped['score'] = final_grouped['product'].map(lambda x: int(math.log(x) * 40 if x > 1 else 0))\n",
    "        final_grouped['客户名称'] = final_grouped.index\n",
    "\n",
    "        return final_grouped\n",
    "\n",
    "    def calculate_weight_mean(self, dt):\n",
    "        the_median_dt_gross = dt - relativedelta(months=+6)\n",
    "        the_median_dt = datetime.datetime(the_median_dt_gross.year, the_median_dt_gross.month, 1)\n",
    "\n",
    "        data = self.DATA\n",
    "        data2 = data.copy()\n",
    "        data2.loc[:, '实提日期'] = pd.to_datetime(data2['实提日期'])\n",
    "        data2 = data2[data2['实提日期'] >= the_median_dt]\n",
    "        data2 = data2.sort_values(by=['实提日期'])\n",
    "        data2['实提日期'] = data2['实提日期'].map(lambda x: datetime.datetime(x.year, x.month, 1))\n",
    "\n",
    "        grouped = data2.groupby(['客户名称', '实提日期']).sum().reset_index()\n",
    "\n",
    "        final_grouped = pd.DataFrame(grouped.groupby('客户名称').mean()['实提吨数'])\n",
    "\n",
    "        final_grouped['客户名称'] = final_grouped.index\n",
    "\n",
    "        return final_grouped\n",
    "    \n",
    "    def calculate_weight_mean_3_month_for_bt_rule_amount(self, dt):\n",
    "        the_median_dt_gross = dt - relativedelta(months=+3)\n",
    "        the_median_dt = datetime.datetime(the_median_dt_gross.year, the_median_dt_gross.month, 1)\n",
    "\n",
    "        data = self.DATA\n",
    "        data2 = data.copy()\n",
    "        data2.loc[:, '实提日期'] = pd.to_datetime(data2['实提日期'])\n",
    "        data2 = data2[data2['实提日期'] >= the_median_dt]\n",
    "        data2 = data2.sort_values(by=['实提日期'])\n",
    "        data2['实提日期'] = data2['实提日期'].map(lambda x: datetime.datetime(x.year, x.month, 1))\n",
    "\n",
    "        grouped = data2.groupby(['客户名称', '实提日期']).sum().reset_index()\n",
    "\n",
    "        final_grouped = pd.DataFrame(grouped.groupby('客户名称').mean()['实提吨数'])\n",
    "\n",
    "        final_grouped['客户名称'] = final_grouped.index\n",
    "        final_grouped['实提吨数_3'] = final_grouped['实提吨数']\n",
    "\n",
    "        return final_grouped\n",
    "    \n",
    "\n",
    "\n",
    "def get_company_info_dict():\n",
    "    conn = cx_Oracle.connect('UA_INTERESTDW_TEST/UA_INTERESTDW_TEST@10.0.12.19:1521/ORCL')\n",
    "    cursor = conn.cursor()\n",
    "    # TODO:后续注释上sql的逻辑\n",
    "    sql = \"select CUSTOMER_ID, CUSTOMER_NAME, CUSTOMER_CODE from DWD_CST_CUSTOMER D where D.VALID = 'T' and D.STATUS = 20 and D.IS_TEST = 'F'\"\n",
    "    cursor.execute(sql)\n",
    "    data = cursor.fetchall()\n",
    "\n",
    "    company_info_dict = {i[0]: i[1] for i in data}\n",
    "    company_info_dict_inverse = {i[1]: i[0] for i in data}\n",
    "    company_info_dict_inverse_for_code = {i[1]: i[2] for i in data}\n",
    "    return company_info_dict, company_info_dict_inverse, company_info_dict_inverse_for_code\n",
    "\n",
    "\n",
    "def get_sale_df(past, now):\n",
    "    conn = cx_Oracle.connect('UA_INTERESTDW_TEST/UA_INTERESTDW_TEST@10.0.12.19:1521/ORCL')\n",
    "    cursor = conn.cursor()\n",
    "    sql = \"\"\"\n",
    "    select \n",
    "        SO_DATE, \n",
    "        CUSTOMER_ID, \n",
    "        FCT_DLY_AMT \n",
    "    from \n",
    "        DWD_BT_SALE_ORDER \n",
    "    where \n",
    "        VALID = 'T' \n",
    "    and \n",
    "        SO_TYPE_ID in (11, 12, 13, 14, 15) \n",
    "    and \n",
    "        SO_DATE between '{}' and '{}'\n",
    "    \"\"\".format(past, now)\n",
    "    cursor.execute(sql)\n",
    "    data = cursor.fetchall()\n",
    "\n",
    "    sale_df = pd.DataFrame(data, columns=['the_date', 'customer_id', 'amount'])\n",
    "    return sale_df\n"
   ]
  },
  {
   "cell_type": "code",
   "execution_count": null,
   "metadata": {},
   "outputs": [],
   "source": [
    "分数 吨数 事业部"
   ]
  },
  {
   "cell_type": "code",
   "execution_count": 2,
   "metadata": {},
   "outputs": [],
   "source": [
    "def map_amount(a_tuple):\n",
    "    if a_tuple[2] == '建材事业部':\n",
    "        if a_tuple[1] >= 60 and a_tuple[1] < 400:\n",
    "            return 20\n",
    "        if a_tuple[1] >= 400 and a_tuple[1] < 500:\n",
    "            if a_tuple[0] >= 585 and a_tuple[0] < 620:\n",
    "                return 20\n",
    "            else:\n",
    "                return 25\n",
    "        if a_tuple[1] >= 500 and a_tuple[1] < 650:\n",
    "            if a_tuple[0] >= 585 and a_tuple[0] < 620:\n",
    "                return 20\n",
    "            if a_tuple[0] >= 620 and a_tuple[0] < 635:\n",
    "                return 25\n",
    "            else:\n",
    "                return 30\n",
    "        if a_tuple[1] >= 650 and a_tuple[1] < 750:\n",
    "            if a_tuple[0] >= 585 and a_tuple[0] < 620:\n",
    "                return 20\n",
    "            if a_tuple[0] >= 620 and a_tuple[0] < 635:\n",
    "                return 25\n",
    "            if a_tuple[0] >= 635 and a_tuple[0] < 650:\n",
    "                return 30\n",
    "            else:\n",
    "                return 35\n",
    "        if a_tuple[1] >= 750:\n",
    "            if a_tuple[0] >= 585 and a_tuple[0] < 620:\n",
    "                return 20\n",
    "            if a_tuple[0] >= 620 and a_tuple[0] < 635:\n",
    "                return 25\n",
    "            if a_tuple[0] >= 635 and a_tuple[0] < 650:\n",
    "                return 30\n",
    "            if a_tuple[0] >= 650 and a_tuple[0] < 675:\n",
    "                return 35\n",
    "            else:\n",
    "                return 40\n",
    "    \n",
    "    if a_tuple[2] == '冷镀事业部':\n",
    "        if a_tuple[1] >= 60 and a_tuple[1] < 300:\n",
    "            return 20\n",
    "        if a_tuple[1] >= 300 and a_tuple[1] < 350:\n",
    "            if a_tuple[0] >= 585 and a_tuple[0] < 620:\n",
    "                return 20\n",
    "            else:\n",
    "                return 25\n",
    "        if a_tuple[1] >= 350 and a_tuple[1] < 450:\n",
    "            if a_tuple[0] >= 585 and a_tuple[0] < 620:\n",
    "                return 20\n",
    "            if a_tuple[0] >= 620 and a_tuple[0] < 635:\n",
    "                return 25\n",
    "            else:\n",
    "                return 30\n",
    "        if a_tuple[1] >= 450 and a_tuple[1] < 500:\n",
    "            if a_tuple[0] >= 585 and a_tuple[0] < 620:\n",
    "                return 20\n",
    "            if a_tuple[0] >= 620 and a_tuple[0] < 635:\n",
    "                return 25\n",
    "            if a_tuple[0] >= 635 and a_tuple[0] < 650:\n",
    "                return 30\n",
    "            else:\n",
    "                return 35\n",
    "        if a_tuple[1] >= 500:\n",
    "            if a_tuple[0] >= 585 and a_tuple[0] < 620:\n",
    "                return 20\n",
    "            if a_tuple[0] >= 620 and a_tuple[0] < 635:\n",
    "                return 25\n",
    "            if a_tuple[0] >= 635 and a_tuple[0] < 650:\n",
    "                return 30\n",
    "            if a_tuple[0] >= 650 and a_tuple[0] < 675:\n",
    "                return 35\n",
    "            else:\n",
    "                return 40\n",
    "    else:\n",
    "        if a_tuple[1] >= 60 and a_tuple[1] < 300:\n",
    "            return 20\n",
    "        if a_tuple[1] >= 300 and a_tuple[1] < 400:\n",
    "            if a_tuple[0] >= 585 and a_tuple[0] < 620:\n",
    "                return 20\n",
    "            else:\n",
    "                return 25\n",
    "        if a_tuple[1] >= 400 and a_tuple[1] < 500:\n",
    "            if a_tuple[0] >= 585 and a_tuple[0] < 620:\n",
    "                return 20\n",
    "            if a_tuple[0] >= 620 and a_tuple[0] < 635:\n",
    "                return 25\n",
    "            else:\n",
    "                return 30\n",
    "        if a_tuple[1] >= 500 and a_tuple[1] < 600:\n",
    "            if a_tuple[0] >= 585 and a_tuple[0] < 620:\n",
    "                return 20\n",
    "            if a_tuple[0] >= 620 and a_tuple[0] < 635:\n",
    "                return 25\n",
    "            if a_tuple[0] >= 635 and a_tuple[0] < 650:\n",
    "                return 30\n",
    "            else:\n",
    "                return 35\n",
    "        if a_tuple[1] >= 600:\n",
    "            if a_tuple[0] >= 585 and a_tuple[0] < 620:\n",
    "                return 20\n",
    "            if a_tuple[0] >= 620 and a_tuple[0] < 635:\n",
    "                return 25\n",
    "            if a_tuple[0] >= 635 and a_tuple[0] < 650:\n",
    "                return 30\n",
    "            if a_tuple[0] >= 650 and a_tuple[0] < 675:\n",
    "                return 35\n",
    "            else:\n",
    "                return 40"
   ]
  },
  {
   "cell_type": "code",
   "execution_count": 3,
   "metadata": {},
   "outputs": [
    {
     "data": {
      "text/plain": [
       "\"\\ndef map_amount_for_bt_rule(a_tuple):\\n    if a_tuple[3] == '建材事业部':\\n        if a_tuple[1] >= 60 and a_tuple[1] < 400 and a_tuple[2] >= 60 and a_tuple[2] < 400:\\n            return 20\\n        if a_tuple[1] >= 400 and a_tuple[1] < 500 and a_tuple[2] >= 400 and a_tuple[2] < 500:\\n            return 25\\n        if a_tuple[1] >= 500 and a_tuple[1] < 650 and a_tuple[2] >= 500 and a_tuple[2] < 650:\\n            return 30\\n        if a_tuple[1] >= 650 and a_tuple[1] < 750 and a_tuple[2] >= 650 and a_tuple[2] < 750:\\n            return 35\\n        if a_tuple[1] >= 750 and a_tuple[2] >= 750:\\n            return 40\\n        \\n    if a_tuple[3] == '冷镀事业部':\\n        if a_tuple[1] >= 60 and a_tuple[1] < 300 and a_tuple[2] >= 60 and a_tuple[2] < 300:\\n            return 20\\n        if a_tuple[1] >= 300 and a_tuple[1] < 350 and a_tuple[2] >= 300 and a_tuple[2] < 350:\\n            return 25\\n        if a_tuple[1] >= 350 and a_tuple[1] < 450 and a_tuple[2] >= 350 and a_tuple[2] < 450:\\n            return 30\\n        if a_tuple[1] >= 450 and a_tuple[1] < 500 and a_tuple[2] >= 450 and a_tuple[2] < 500:\\n            return 35\\n        if a_tuple[1] >= 500 and a_tuple[2] >= 500:\\n            return 40\\n\\n    if a_tuple[3] == '热卷事业部' or a_tuple[3] == '中板事业部':\\n        if a_tuple[1] >= 60 and a_tuple[1] < 300 and a_tuple[2] >= 60 and a_tuple[2] < 300:\\n            return 20\\n        if a_tuple[1] >= 300 and a_tuple[1] < 400 and a_tuple[2] >= 300 and a_tuple[2] < 400:\\n            return 25\\n        if a_tuple[1] >= 400 and a_tuple[1] < 500 and a_tuple[2] >= 400 and a_tuple[2] < 500:\\n            return 30\\n        if a_tuple[1] >= 500 and a_tuple[1] < 600 and a_tuple[2] >= 500 and a_tuple[2] < 600:\\n            return 35\\n        if a_tuple[1] >= 600 and a_tuple[2] >= 600:\\n            return 40\\n\""
      ]
     },
     "execution_count": 3,
     "metadata": {},
     "output_type": "execute_result"
    }
   ],
   "source": [
    "\"\"\"\n",
    "def map_amount_for_bt_rule(a_tuple):\n",
    "    if a_tuple[3] == '建材事业部':\n",
    "        if a_tuple[1] >= 60 and a_tuple[1] < 400 and a_tuple[2] >= 60 and a_tuple[2] < 400:\n",
    "            return 20\n",
    "        if a_tuple[1] >= 400 and a_tuple[1] < 500 and a_tuple[2] >= 400 and a_tuple[2] < 500:\n",
    "            return 25\n",
    "        if a_tuple[1] >= 500 and a_tuple[1] < 650 and a_tuple[2] >= 500 and a_tuple[2] < 650:\n",
    "            return 30\n",
    "        if a_tuple[1] >= 650 and a_tuple[1] < 750 and a_tuple[2] >= 650 and a_tuple[2] < 750:\n",
    "            return 35\n",
    "        if a_tuple[1] >= 750 and a_tuple[2] >= 750:\n",
    "            return 40\n",
    "        \n",
    "    if a_tuple[3] == '冷镀事业部':\n",
    "        if a_tuple[1] >= 60 and a_tuple[1] < 300 and a_tuple[2] >= 60 and a_tuple[2] < 300:\n",
    "            return 20\n",
    "        if a_tuple[1] >= 300 and a_tuple[1] < 350 and a_tuple[2] >= 300 and a_tuple[2] < 350:\n",
    "            return 25\n",
    "        if a_tuple[1] >= 350 and a_tuple[1] < 450 and a_tuple[2] >= 350 and a_tuple[2] < 450:\n",
    "            return 30\n",
    "        if a_tuple[1] >= 450 and a_tuple[1] < 500 and a_tuple[2] >= 450 and a_tuple[2] < 500:\n",
    "            return 35\n",
    "        if a_tuple[1] >= 500 and a_tuple[2] >= 500:\n",
    "            return 40\n",
    "\n",
    "    if a_tuple[3] == '热卷事业部' or a_tuple[3] == '中板事业部':\n",
    "        if a_tuple[1] >= 60 and a_tuple[1] < 300 and a_tuple[2] >= 60 and a_tuple[2] < 300:\n",
    "            return 20\n",
    "        if a_tuple[1] >= 300 and a_tuple[1] < 400 and a_tuple[2] >= 300 and a_tuple[2] < 400:\n",
    "            return 25\n",
    "        if a_tuple[1] >= 400 and a_tuple[1] < 500 and a_tuple[2] >= 400 and a_tuple[2] < 500:\n",
    "            return 30\n",
    "        if a_tuple[1] >= 500 and a_tuple[1] < 600 and a_tuple[2] >= 500 and a_tuple[2] < 600:\n",
    "            return 35\n",
    "        if a_tuple[1] >= 600 and a_tuple[2] >= 600:\n",
    "            return 40\n",
    "\"\"\""
   ]
  },
  {
   "cell_type": "code",
   "execution_count": 4,
   "metadata": {},
   "outputs": [
    {
     "ename": "SyntaxError",
     "evalue": "invalid syntax (<ipython-input-4-12f2d4f9efae>, line 1)",
     "output_type": "error",
     "traceback": [
      "\u001b[1;36m  File \u001b[1;32m\"<ipython-input-4-12f2d4f9efae>\"\u001b[1;36m, line \u001b[1;32m1\u001b[0m\n\u001b[1;33m    score\t实提吨数\t实提吨数_3\tdepartment\u001b[0m\n\u001b[1;37m         \t   ^\u001b[0m\n\u001b[1;31mSyntaxError\u001b[0m\u001b[1;31m:\u001b[0m invalid syntax\n"
     ]
    }
   ],
   "source": [
    "score\t实提吨数\t实提吨数_3\tdepartment"
   ]
  },
  {
   "cell_type": "code",
   "execution_count": 6,
   "metadata": {},
   "outputs": [],
   "source": [
    "# 要求以3个月6个月最低标准来看\n",
    "def map_amount_for_bt_rule(a_tuple):\n",
    "    the_lower = min(a_tuple[1], a_tuple[2])\n",
    "    \n",
    "    if a_tuple[3] == '建材事业部':\n",
    "        if the_lower >= 60 and the_lower < 400:\n",
    "            return 20\n",
    "        if the_lower >= 400 and the_lower < 500:\n",
    "            return 25\n",
    "        if the_lower >= 500 and the_lower < 650:\n",
    "            return 30\n",
    "        if the_lower >= 650 and the_lower < 750:\n",
    "            return 35\n",
    "        if the_lower >= 750:\n",
    "            return 40\n",
    "        \n",
    "    if a_tuple[3] == '冷镀事业部':\n",
    "        if the_lower >= 60 and the_lower < 300:\n",
    "            return 20\n",
    "        if the_lower >= 300 and the_lower < 350:\n",
    "            return 25\n",
    "        if the_lower >= 350 and the_lower < 450:\n",
    "            return 30\n",
    "        if the_lower >= 450 and the_lower < 500:\n",
    "            return 35\n",
    "        if the_lower >= 500:\n",
    "            return 40\n",
    "\n",
    "    if a_tuple[3] == '热卷事业部' or a_tuple[3] == '中板事业部':\n",
    "        if the_lower >= 60 and the_lower < 300:\n",
    "            return 20\n",
    "        if the_lower >= 300 and the_lower < 400:\n",
    "            return 25\n",
    "        if the_lower >= 400 and the_lower < 500:\n",
    "            return 30\n",
    "        if the_lower >= 500 and the_lower < 600:\n",
    "            return 35\n",
    "        if the_lower >= 600:\n",
    "            return 40"
   ]
  },
  {
   "cell_type": "code",
   "execution_count": null,
   "metadata": {},
   "outputs": [],
   "source": []
  }
 ],
 "metadata": {
  "kernelspec": {
   "display_name": "Python 3",
   "language": "python",
   "name": "python3"
  },
  "language_info": {
   "codemirror_mode": {
    "name": "ipython",
    "version": 3
   },
   "file_extension": ".py",
   "mimetype": "text/x-python",
   "name": "python",
   "nbconvert_exporter": "python",
   "pygments_lexer": "ipython3",
   "version": "3.7.3"
  }
 },
 "nbformat": 4,
 "nbformat_minor": 2
}
