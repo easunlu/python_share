{
 "cells": [
  {
   "cell_type": "code",
   "execution_count": 32,
   "metadata": {},
   "outputs": [],
   "source": [
    "import pandas as pd\n",
    "from datetime import datetime\n",
    "import matplotlib.pyplot as plt\n",
    "import shutil\n",
    "import os\n",
    "%matplotlib inline"
   ]
  },
  {
   "cell_type": "code",
   "execution_count": 3,
   "metadata": {},
   "outputs": [],
   "source": [
    "df_amount = pd.read_excel('供应商额度列表2020-06-16.xls', sheet_name='供应商额度使用报表')[['大区 ', '供应商抬头 ', '总额度（吨） ']]"
   ]
  },
  {
   "cell_type": "code",
   "execution_count": 4,
   "metadata": {},
   "outputs": [],
   "source": [
    "df_trade = pd.read_csv('for供应商历史额度占用.csv')"
   ]
  },
  {
   "cell_type": "code",
   "execution_count": 5,
   "metadata": {},
   "outputs": [],
   "source": [
    "df_trade['下单日期'] = pd.to_datetime(df_trade['下单日期'])\n",
    "df_trade['实提日期'] = pd.to_datetime(df_trade['实提日期'])"
   ]
  },
  {
   "cell_type": "code",
   "execution_count": 6,
   "metadata": {},
   "outputs": [
    {
     "data": {
      "text/plain": [
       "1817006"
      ]
     },
     "execution_count": 6,
     "metadata": {},
     "output_type": "execute_result"
    }
   ],
   "source": [
    "len(df_trade)"
   ]
  },
  {
   "cell_type": "code",
   "execution_count": 7,
   "metadata": {},
   "outputs": [
    {
     "data": {
      "text/html": [
       "<div>\n",
       "<style scoped>\n",
       "    .dataframe tbody tr th:only-of-type {\n",
       "        vertical-align: middle;\n",
       "    }\n",
       "\n",
       "    .dataframe tbody tr th {\n",
       "        vertical-align: top;\n",
       "    }\n",
       "\n",
       "    .dataframe thead th {\n",
       "        text-align: right;\n",
       "    }\n",
       "</style>\n",
       "<table border=\"1\" class=\"dataframe\">\n",
       "  <thead>\n",
       "    <tr style=\"text-align: right;\">\n",
       "      <th></th>\n",
       "      <th>供应商名称</th>\n",
       "      <th>订单编号</th>\n",
       "      <th>下单日期</th>\n",
       "      <th>实提日期</th>\n",
       "      <th>实提吨数</th>\n",
       "    </tr>\n",
       "  </thead>\n",
       "  <tbody>\n",
       "    <tr>\n",
       "      <th>0</th>\n",
       "      <td>银河德睿资本管理有限公司</td>\n",
       "      <td>XS20061513320133</td>\n",
       "      <td>2020-06-15</td>\n",
       "      <td>2020-06-15</td>\n",
       "      <td>28.340</td>\n",
       "    </tr>\n",
       "    <tr>\n",
       "      <th>1</th>\n",
       "      <td>北京鑫海建业金属材料有限公司</td>\n",
       "      <td>XS20061513321479</td>\n",
       "      <td>2020-06-15</td>\n",
       "      <td>2020-06-16</td>\n",
       "      <td>33.732</td>\n",
       "    </tr>\n",
       "  </tbody>\n",
       "</table>\n",
       "</div>"
      ],
      "text/plain": [
       "            供应商名称              订单编号       下单日期       实提日期    实提吨数\n",
       "0    银河德睿资本管理有限公司  XS20061513320133 2020-06-15 2020-06-15  28.340\n",
       "1  北京鑫海建业金属材料有限公司  XS20061513321479 2020-06-15 2020-06-16  33.732"
      ]
     },
     "execution_count": 7,
     "metadata": {},
     "output_type": "execute_result"
    }
   ],
   "source": [
    "df_trade.head(2)"
   ]
  },
  {
   "cell_type": "code",
   "execution_count": 8,
   "metadata": {},
   "outputs": [
    {
     "data": {
      "text/plain": [
       "Index(['供应商名称', '订单编号', '下单日期', '实提日期', '实提吨数'], dtype='object')"
      ]
     },
     "execution_count": 8,
     "metadata": {},
     "output_type": "execute_result"
    }
   ],
   "source": [
    "df_trade.columns"
   ]
  },
  {
   "cell_type": "code",
   "execution_count": 9,
   "metadata": {},
   "outputs": [
    {
     "data": {
      "text/plain": [
       "Index(['大区 ', '供应商抬头 ', '总额度（吨） '], dtype='object')"
      ]
     },
     "execution_count": 9,
     "metadata": {},
     "output_type": "execute_result"
    }
   ],
   "source": [
    "df_amount.columns"
   ]
  },
  {
   "cell_type": "code",
   "execution_count": 10,
   "metadata": {},
   "outputs": [
    {
     "data": {
      "text/html": [
       "<div>\n",
       "<style scoped>\n",
       "    .dataframe tbody tr th:only-of-type {\n",
       "        vertical-align: middle;\n",
       "    }\n",
       "\n",
       "    .dataframe tbody tr th {\n",
       "        vertical-align: top;\n",
       "    }\n",
       "\n",
       "    .dataframe thead th {\n",
       "        text-align: right;\n",
       "    }\n",
       "</style>\n",
       "<table border=\"1\" class=\"dataframe\">\n",
       "  <thead>\n",
       "    <tr style=\"text-align: right;\">\n",
       "      <th></th>\n",
       "      <th>大区</th>\n",
       "      <th>供应商抬头</th>\n",
       "      <th>总额度（吨）</th>\n",
       "    </tr>\n",
       "  </thead>\n",
       "  <tbody>\n",
       "    <tr>\n",
       "      <th>0</th>\n",
       "      <td>上海区</td>\n",
       "      <td>上海找钢网信息科技股份有限公司</td>\n",
       "      <td>100000</td>\n",
       "    </tr>\n",
       "    <tr>\n",
       "      <th>1</th>\n",
       "      <td>浙赣区</td>\n",
       "      <td>浙江物产金属集团有限公司</td>\n",
       "      <td>100000</td>\n",
       "    </tr>\n",
       "  </tbody>\n",
       "</table>\n",
       "</div>"
      ],
      "text/plain": [
       "   大区            供应商抬头   总额度（吨） \n",
       "0  上海区  上海找钢网信息科技股份有限公司   100000\n",
       "1  浙赣区     浙江物产金属集团有限公司   100000"
      ]
     },
     "execution_count": 10,
     "metadata": {},
     "output_type": "execute_result"
    }
   ],
   "source": [
    "df_amount.head(2)"
   ]
  },
  {
   "cell_type": "code",
   "execution_count": 11,
   "metadata": {},
   "outputs": [
    {
     "data": {
      "text/plain": [
       "array(['上海找钢网信息科技股份有限公司', '浙江物产金属集团有限公司', '浙江物产国际贸易有限公司', ...,\n",
       "       '重庆侨和物资有限公司', '重庆钢丰商贸有限责任公司', '测试专用'], dtype=object)"
      ]
     },
     "execution_count": 11,
     "metadata": {},
     "output_type": "execute_result"
    }
   ],
   "source": [
    "df_amount['供应商抬头 '].values"
   ]
  },
  {
   "cell_type": "code",
   "execution_count": 12,
   "metadata": {},
   "outputs": [
    {
     "ename": "NameError",
     "evalue": "name 'days_for_loop' is not defined",
     "output_type": "error",
     "traceback": [
      "\u001b[1;31m---------------------------------------------------------------------------\u001b[0m",
      "\u001b[1;31mNameError\u001b[0m                                 Traceback (most recent call last)",
      "\u001b[1;32m<ipython-input-12-85a565faaf3d>\u001b[0m in \u001b[0;36m<module>\u001b[1;34m\u001b[0m\n\u001b[1;32m----> 1\u001b[1;33m \u001b[0mint\u001b[0m\u001b[1;33m(\u001b[0m\u001b[1;33m(\u001b[0m\u001b[0mdays_for_loop\u001b[0m\u001b[1;33m[\u001b[0m\u001b[1;33m-\u001b[0m\u001b[1;36m1\u001b[0m\u001b[1;33m]\u001b[0m \u001b[1;33m-\u001b[0m \u001b[0mdays_for_loop\u001b[0m\u001b[1;33m[\u001b[0m\u001b[1;36m0\u001b[0m\u001b[1;33m]\u001b[0m\u001b[1;33m)\u001b[0m\u001b[1;33m.\u001b[0m\u001b[0mdays\u001b[0m \u001b[1;33m/\u001b[0m \u001b[1;36m30\u001b[0m\u001b[1;33m)\u001b[0m\u001b[1;33m\u001b[0m\u001b[1;33m\u001b[0m\u001b[0m\n\u001b[0m",
      "\u001b[1;31mNameError\u001b[0m: name 'days_for_loop' is not defined"
     ]
    }
   ],
   "source": [
    "int((days_for_loop[-1] - days_for_loop[0]).days / 30)"
   ]
  },
  {
   "cell_type": "code",
   "execution_count": 48,
   "metadata": {},
   "outputs": [
    {
     "data": {
      "text/plain": [
       "10880"
      ]
     },
     "execution_count": 48,
     "metadata": {},
     "output_type": "execute_result"
    }
   ],
   "source": [
    "int(pd.Series(amount_need_dict).max())"
   ]
  },
  {
   "cell_type": "code",
   "execution_count": 49,
   "metadata": {},
   "outputs": [
    {
     "data": {
      "text/plain": [
       "1789"
      ]
     },
     "execution_count": 49,
     "metadata": {},
     "output_type": "execute_result"
    }
   ],
   "source": [
    "int(pd.Series(amount_need_dict).mean())"
   ]
  },
  {
   "cell_type": "code",
   "execution_count": 62,
   "metadata": {},
   "outputs": [
    {
     "data": {
      "text/plain": [
       "{'浙江物产金属集团有限公司': 10880,\n",
       " '浙江物产国际贸易有限公司': 7023,\n",
       " '杭州热联集团股份有限公司': 11914,\n",
       " '厦门国贸集团股份有限公司': 14936,\n",
       " '浙江杭钢国贸有限公司': 8713,\n",
       " '浙江省冶金物资有限公司': 7691,\n",
       " '北京中铁建工物资有限公司': 23355,\n",
       " '浙江特产金属材料有限公司': 1192,\n",
       " '浙江中拓供应链管理有限公司': 4838}"
      ]
     },
     "execution_count": 62,
     "metadata": {},
     "output_type": "execute_result"
    }
   ],
   "source": [
    "amount_max_dict"
   ]
  },
  {
   "cell_type": "code",
   "execution_count": 12,
   "metadata": {},
   "outputs": [
    {
     "data": {
      "text/html": [
       "<div>\n",
       "<style scoped>\n",
       "    .dataframe tbody tr th:only-of-type {\n",
       "        vertical-align: middle;\n",
       "    }\n",
       "\n",
       "    .dataframe tbody tr th {\n",
       "        vertical-align: top;\n",
       "    }\n",
       "\n",
       "    .dataframe thead th {\n",
       "        text-align: right;\n",
       "    }\n",
       "</style>\n",
       "<table border=\"1\" class=\"dataframe\">\n",
       "  <thead>\n",
       "    <tr style=\"text-align: right;\">\n",
       "      <th></th>\n",
       "      <th>大区</th>\n",
       "      <th>供应商抬头</th>\n",
       "      <th>总额度（吨）</th>\n",
       "    </tr>\n",
       "  </thead>\n",
       "  <tbody>\n",
       "    <tr>\n",
       "      <th>0</th>\n",
       "      <td>上海区</td>\n",
       "      <td>上海找钢网信息科技股份有限公司</td>\n",
       "      <td>100000</td>\n",
       "    </tr>\n",
       "    <tr>\n",
       "      <th>1</th>\n",
       "      <td>浙赣区</td>\n",
       "      <td>浙江物产金属集团有限公司</td>\n",
       "      <td>100000</td>\n",
       "    </tr>\n",
       "  </tbody>\n",
       "</table>\n",
       "</div>"
      ],
      "text/plain": [
       "   大区            供应商抬头   总额度（吨） \n",
       "0  上海区  上海找钢网信息科技股份有限公司   100000\n",
       "1  浙赣区     浙江物产金属集团有限公司   100000"
      ]
     },
     "execution_count": 12,
     "metadata": {},
     "output_type": "execute_result"
    }
   ],
   "source": [
    "df_amount.head(2)"
   ]
  },
  {
   "cell_type": "code",
   "execution_count": 13,
   "metadata": {},
   "outputs": [
    {
     "ename": "NameError",
     "evalue": "name 'amount_max_dict' is not defined",
     "output_type": "error",
     "traceback": [
      "\u001b[1;31m---------------------------------------------------------------------------\u001b[0m",
      "\u001b[1;31mNameError\u001b[0m                                 Traceback (most recent call last)",
      "\u001b[1;32m<ipython-input-13-c08203066cb1>\u001b[0m in \u001b[0;36m<module>\u001b[1;34m\u001b[0m\n\u001b[1;32m----> 1\u001b[1;33m \u001b[0mdf_amount\u001b[0m\u001b[1;33m[\u001b[0m\u001b[1;34m'供应商抬头 '\u001b[0m\u001b[1;33m]\u001b[0m\u001b[1;33m.\u001b[0m\u001b[0mmap\u001b[0m\u001b[1;33m(\u001b[0m\u001b[0mamount_max_dict\u001b[0m\u001b[1;33m)\u001b[0m\u001b[1;33m.\u001b[0m\u001b[0mhead\u001b[0m\u001b[1;33m(\u001b[0m\u001b[1;36m2\u001b[0m\u001b[1;33m)\u001b[0m\u001b[1;33m\u001b[0m\u001b[1;33m\u001b[0m\u001b[0m\n\u001b[0m",
      "\u001b[1;31mNameError\u001b[0m: name 'amount_max_dict' is not defined"
     ]
    }
   ],
   "source": [
    "df_amount['供应商抬头 '].map(amount_max_dict).head(2)"
   ]
  },
  {
   "cell_type": "code",
   "execution_count": 24,
   "metadata": {},
   "outputs": [],
   "source": [
    "df_amount['历史合作月份'] = df_amount['供应商抬头 '].map(amount_corp_period_dict)\n",
    "df_amount['历史额度占用最大值'] = df_amount['供应商抬头 '].map(amount_max_dict)\n",
    "df_amount['历史额度占用平均值'] = df_amount['供应商抬头 '].map(amount_mean_dict)"
   ]
  },
  {
   "cell_type": "code",
   "execution_count": 25,
   "metadata": {},
   "outputs": [
    {
     "data": {
      "text/html": [
       "<div>\n",
       "<style scoped>\n",
       "    .dataframe tbody tr th:only-of-type {\n",
       "        vertical-align: middle;\n",
       "    }\n",
       "\n",
       "    .dataframe tbody tr th {\n",
       "        vertical-align: top;\n",
       "    }\n",
       "\n",
       "    .dataframe thead th {\n",
       "        text-align: right;\n",
       "    }\n",
       "</style>\n",
       "<table border=\"1\" class=\"dataframe\">\n",
       "  <thead>\n",
       "    <tr style=\"text-align: right;\">\n",
       "      <th></th>\n",
       "      <th>大区</th>\n",
       "      <th>供应商抬头</th>\n",
       "      <th>总额度（吨）</th>\n",
       "      <th>历史合作月份</th>\n",
       "      <th>历史额度占用最大值</th>\n",
       "      <th>历史额度占用平均值</th>\n",
       "    </tr>\n",
       "  </thead>\n",
       "  <tbody>\n",
       "    <tr>\n",
       "      <th>0</th>\n",
       "      <td>上海区</td>\n",
       "      <td>上海找钢网信息科技股份有限公司</td>\n",
       "      <td>100000</td>\n",
       "      <td>NaN</td>\n",
       "      <td>NaN</td>\n",
       "      <td>NaN</td>\n",
       "    </tr>\n",
       "    <tr>\n",
       "      <th>1</th>\n",
       "      <td>浙赣区</td>\n",
       "      <td>浙江物产金属集团有限公司</td>\n",
       "      <td>100000</td>\n",
       "      <td>79.900000</td>\n",
       "      <td>10880.0</td>\n",
       "      <td>1789.0</td>\n",
       "    </tr>\n",
       "    <tr>\n",
       "      <th>2</th>\n",
       "      <td>浙赣区</td>\n",
       "      <td>浙江物产国际贸易有限公司</td>\n",
       "      <td>100000</td>\n",
       "      <td>70.666667</td>\n",
       "      <td>7023.0</td>\n",
       "      <td>296.0</td>\n",
       "    </tr>\n",
       "    <tr>\n",
       "      <th>3</th>\n",
       "      <td>浙赣区</td>\n",
       "      <td>杭州热联集团股份有限公司</td>\n",
       "      <td>50000</td>\n",
       "      <td>68.866667</td>\n",
       "      <td>11914.0</td>\n",
       "      <td>1667.0</td>\n",
       "    </tr>\n",
       "    <tr>\n",
       "      <th>4</th>\n",
       "      <td>浙赣区</td>\n",
       "      <td>厦门国贸集团股份有限公司</td>\n",
       "      <td>30000</td>\n",
       "      <td>60.400000</td>\n",
       "      <td>14936.0</td>\n",
       "      <td>232.0</td>\n",
       "    </tr>\n",
       "  </tbody>\n",
       "</table>\n",
       "</div>"
      ],
      "text/plain": [
       "   大区            供应商抬头   总额度（吨）      历史合作月份  历史额度占用最大值  历史额度占用平均值\n",
       "0  上海区  上海找钢网信息科技股份有限公司   100000        NaN        NaN        NaN\n",
       "1  浙赣区     浙江物产金属集团有限公司   100000  79.900000    10880.0     1789.0\n",
       "2  浙赣区     浙江物产国际贸易有限公司   100000  70.666667     7023.0      296.0\n",
       "3  浙赣区     杭州热联集团股份有限公司    50000  68.866667    11914.0     1667.0\n",
       "4  浙赣区     厦门国贸集团股份有限公司    30000  60.400000    14936.0      232.0"
      ]
     },
     "execution_count": 25,
     "metadata": {},
     "output_type": "execute_result"
    }
   ],
   "source": [
    "df_amount.head(5)"
   ]
  },
  {
   "cell_type": "code",
   "execution_count": 26,
   "metadata": {},
   "outputs": [],
   "source": [
    "df_amount.to_csv('历史额度情况总表.csv', encoding='GBK')"
   ]
  },
  {
   "cell_type": "code",
   "execution_count": null,
   "metadata": {},
   "outputs": [],
   "source": [
    "\n",
    "#第一部分，准备工作，拼接出要存放的文件夹的路径\n",
    "file = 'E:/测试/1.jpg'\n",
    "#current_foder是‘模拟’文件夹下所有子文件名组成的一个列表\n",
    "current_folder = os.listdir('E:/测试/模拟')#current_foder是‘模拟’文件夹下所有子文件名组成的一个列表\n",
    "\n",
    "# 第二部分，将名称为file的文件复制到名为file_dir的文件夹中\n",
    "for x in current_folder:\n",
    "    #拼接出要存放的文件夹的路径\n",
    "    file_dir = 'E:/测试/模拟'+'/'+x\n",
    "    #将指定的文件file复制到file_dir的文件夹里面\n",
    "    shutil.copy(file,file_dir)"
   ]
  },
  {
   "cell_type": "code",
   "execution_count": 37,
   "metadata": {},
   "outputs": [
    {
     "data": {
      "text/plain": [
       "'一皓能源科技（上海）有限公司'"
      ]
     },
     "execution_count": 37,
     "metadata": {},
     "output_type": "execute_result"
    }
   ],
   "source": [
    "os.listdir('D:\\zg_trans_ys_pc\\E\\supplier_amount\\供应商历史额度占用总图')[0].split('.')[0]"
   ]
  },
  {
   "cell_type": "code",
   "execution_count": 48,
   "metadata": {},
   "outputs": [],
   "source": [
    "for png in os.listdir('D:\\zg_trans_ys_pc\\E\\supplier_amount\\供应商历史额度占用总图'):\n",
    "    if png.split('.')[0] in df_amount[df_amount['大区 ']=='中原区']['供应商抬头 '].values:\n",
    "        the_file = 'D:\\zg_trans_ys_pc\\E\\supplier_amount\\供应商历史额度占用总图' + '\\\\' + png\n",
    "        shutil.copy(the_file, 'D:\\zg_trans_ys_pc\\E\\supplier_amount\\中原区-供应商历史额度占用总图')"
   ]
  },
  {
   "cell_type": "code",
   "execution_count": null,
   "metadata": {},
   "outputs": [],
   "source": []
  },
  {
   "cell_type": "code",
   "execution_count": null,
   "metadata": {},
   "outputs": [],
   "source": []
  },
  {
   "cell_type": "code",
   "execution_count": null,
   "metadata": {},
   "outputs": [],
   "source": []
  },
  {
   "cell_type": "code",
   "execution_count": null,
   "metadata": {},
   "outputs": [],
   "source": []
  },
  {
   "cell_type": "code",
   "execution_count": null,
   "metadata": {},
   "outputs": [],
   "source": []
  },
  {
   "cell_type": "code",
   "execution_count": null,
   "metadata": {},
   "outputs": [],
   "source": []
  },
  {
   "cell_type": "code",
   "execution_count": null,
   "metadata": {},
   "outputs": [],
   "source": []
  },
  {
   "cell_type": "code",
   "execution_count": null,
   "metadata": {},
   "outputs": [],
   "source": []
  },
  {
   "cell_type": "code",
   "execution_count": null,
   "metadata": {},
   "outputs": [],
   "source": []
  },
  {
   "cell_type": "code",
   "execution_count": null,
   "metadata": {},
   "outputs": [],
   "source": []
  },
  {
   "cell_type": "code",
   "execution_count": null,
   "metadata": {},
   "outputs": [],
   "source": []
  },
  {
   "cell_type": "code",
   "execution_count": null,
   "metadata": {},
   "outputs": [],
   "source": []
  },
  {
   "cell_type": "code",
   "execution_count": null,
   "metadata": {},
   "outputs": [],
   "source": []
  },
  {
   "cell_type": "code",
   "execution_count": null,
   "metadata": {},
   "outputs": [],
   "source": []
  },
  {
   "cell_type": "code",
   "execution_count": 1,
   "metadata": {},
   "outputs": [
    {
     "data": {
      "text/plain": [
       "\"\\namount_corp_period_dict = {}\\namount_max_dict = {}\\namount_mean_dict = {}\\nfor company in df_amount['供应商抬头 '].values[-2:0:-1]:\\n    print(company)\\n    the_company_trade = df_trade[df_trade['供应商名称'] == company]\\n    try:\\n        days_for_loop = pd.date_range(start=pd.to_datetime(the_company_trade['下单日期'].min()), end=pd.to_datetime(the_company_trade['实提日期'].max()))\\n\\n        amount_need_dict = {}\\n        for d in days_for_loop:\\n            crit1 = the_company_trade['下单日期'] <= d\\n            crit2 = the_company_trade['实提日期'] >= d\\n            df_on = the_company_trade[crit1 & crit2]\\n            if len(df_on) == 0:\\n                amount_need_dict[d] = 0\\n            else:\\n                amount_need_dict[d] = df_on['实提吨数'].sum()\\n        the_plot = pd.Series(amount_need_dict).plot(figsize=(8, 3))\\n        the_fig = the_plot.get_figure()\\n        save_name = './供应商历史额度占用总图/' + company + '.png'\\n        print(save_name)\\n        the_fig.savefig(save_name)\\n        plt.show()\\n        amount_corp_period_dict[company] = int((datetime.now() - days_for_loop[0]).days) / 30\\n        amount_max_dict[company] = int(pd.Series(amount_need_dict).max())\\n        amount_mean_dict[company] = int(pd.Series(amount_need_dict).mean())\\n    except:\\n        print('----------')\\n        print(company)\\n        print('----------')\\n\""
      ]
     },
     "execution_count": 1,
     "metadata": {},
     "output_type": "execute_result"
    }
   ],
   "source": [
    "\"\"\"\n",
    "amount_corp_period_dict = {}\n",
    "amount_max_dict = {}\n",
    "amount_mean_dict = {}\n",
    "for company in df_amount['供应商抬头 '].values[-2:0:-1]:\n",
    "    print(company)\n",
    "    the_company_trade = df_trade[df_trade['供应商名称'] == company]\n",
    "    try:\n",
    "        days_for_loop = pd.date_range(start=pd.to_datetime(the_company_trade['下单日期'].min()), end=pd.to_datetime(the_company_trade['实提日期'].max()))\n",
    "\n",
    "        amount_need_dict = {}\n",
    "        for d in days_for_loop:\n",
    "            crit1 = the_company_trade['下单日期'] <= d\n",
    "            crit2 = the_company_trade['实提日期'] >= d\n",
    "            df_on = the_company_trade[crit1 & crit2]\n",
    "            if len(df_on) == 0:\n",
    "                amount_need_dict[d] = 0\n",
    "            else:\n",
    "                amount_need_dict[d] = df_on['实提吨数'].sum()\n",
    "        the_plot = pd.Series(amount_need_dict).plot(figsize=(8, 3))\n",
    "        the_fig = the_plot.get_figure()\n",
    "        save_name = './供应商历史额度占用总图/' + company + '.png'\n",
    "        print(save_name)\n",
    "        the_fig.savefig(save_name)\n",
    "        plt.show()\n",
    "        amount_corp_period_dict[company] = int((datetime.now() - days_for_loop[0]).days) / 30\n",
    "        amount_max_dict[company] = int(pd.Series(amount_need_dict).max())\n",
    "        amount_mean_dict[company] = int(pd.Series(amount_need_dict).mean())\n",
    "    except:\n",
    "        print('----------')\n",
    "        print(company)\n",
    "        print('----------')\n",
    "\"\"\""
   ]
  },
  {
   "cell_type": "code",
   "execution_count": 33,
   "metadata": {},
   "outputs": [
    {
     "data": {
      "text/plain": [
       "2013-11-25     266.939\n",
       "2013-11-26     324.479\n",
       "2013-11-27     324.479\n",
       "2013-11-28     401.000\n",
       "2013-11-29     429.254\n",
       "2013-11-30     409.247\n",
       "2013-12-01     409.247\n",
       "2013-12-02     409.247\n",
       "2013-12-03     564.637\n",
       "2013-12-04     494.015\n",
       "2013-12-05     486.369\n",
       "2013-12-06     586.574\n",
       "2013-12-07     534.835\n",
       "2013-12-08     534.835\n",
       "2013-12-09     589.089\n",
       "2013-12-10     669.478\n",
       "2013-12-11     347.715\n",
       "2013-12-12     341.354\n",
       "2013-12-13     225.635\n",
       "2013-12-14     215.653\n",
       "2013-12-15     215.653\n",
       "2013-12-16     236.631\n",
       "2013-12-17     228.533\n",
       "2013-12-18     111.963\n",
       "2013-12-19     226.423\n",
       "2013-12-20     400.126\n",
       "2013-12-21     286.825\n",
       "2013-12-22     286.825\n",
       "2013-12-23     350.506\n",
       "2013-12-24     319.901\n",
       "                ...   \n",
       "2020-05-17    4378.691\n",
       "2020-05-18    5788.752\n",
       "2020-05-19    4646.488\n",
       "2020-05-20    3910.701\n",
       "2020-05-21    4893.362\n",
       "2020-05-22    5486.180\n",
       "2020-05-23    3379.783\n",
       "2020-05-24    2766.273\n",
       "2020-05-25    4895.626\n",
       "2020-05-26    4060.335\n",
       "2020-05-27    4945.974\n",
       "2020-05-28    5368.983\n",
       "2020-05-29    6347.350\n",
       "2020-05-30    4943.242\n",
       "2020-05-31    4557.090\n",
       "2020-06-01    5546.044\n",
       "2020-06-02    6557.770\n",
       "2020-06-03    5974.675\n",
       "2020-06-04    6241.615\n",
       "2020-06-05    8774.840\n",
       "2020-06-06    7234.054\n",
       "2020-06-07    6452.719\n",
       "2020-06-08    8547.048\n",
       "2020-06-09    8696.876\n",
       "2020-06-10    7228.097\n",
       "2020-06-11    6807.948\n",
       "2020-06-12    5406.448\n",
       "2020-06-13    3352.705\n",
       "2020-06-14    3352.705\n",
       "2020-06-15    3218.915\n",
       "Length: 2395, dtype: float64"
      ]
     },
     "execution_count": 33,
     "metadata": {},
     "output_type": "execute_result"
    }
   ],
   "source": [
    "pd.Series(amount_need_dict)"
   ]
  },
  {
   "cell_type": "code",
   "execution_count": null,
   "metadata": {},
   "outputs": [],
   "source": []
  },
  {
   "cell_type": "code",
   "execution_count": null,
   "metadata": {},
   "outputs": [],
   "source": []
  },
  {
   "cell_type": "code",
   "execution_count": null,
   "metadata": {},
   "outputs": [],
   "source": []
  },
  {
   "cell_type": "code",
   "execution_count": null,
   "metadata": {},
   "outputs": [],
   "source": []
  },
  {
   "cell_type": "code",
   "execution_count": null,
   "metadata": {},
   "outputs": [],
   "source": []
  },
  {
   "cell_type": "code",
   "execution_count": null,
   "metadata": {},
   "outputs": [],
   "source": []
  },
  {
   "cell_type": "code",
   "execution_count": null,
   "metadata": {},
   "outputs": [],
   "source": []
  },
  {
   "cell_type": "code",
   "execution_count": null,
   "metadata": {},
   "outputs": [],
   "source": []
  },
  {
   "cell_type": "code",
   "execution_count": null,
   "metadata": {},
   "outputs": [],
   "source": []
  },
  {
   "cell_type": "code",
   "execution_count": null,
   "metadata": {},
   "outputs": [],
   "source": []
  },
  {
   "cell_type": "code",
   "execution_count": null,
   "metadata": {},
   "outputs": [],
   "source": []
  },
  {
   "cell_type": "code",
   "execution_count": null,
   "metadata": {},
   "outputs": [],
   "source": []
  },
  {
   "cell_type": "code",
   "execution_count": null,
   "metadata": {},
   "outputs": [],
   "source": []
  },
  {
   "cell_type": "code",
   "execution_count": null,
   "metadata": {},
   "outputs": [],
   "source": []
  },
  {
   "cell_type": "code",
   "execution_count": null,
   "metadata": {},
   "outputs": [],
   "source": []
  },
  {
   "cell_type": "code",
   "execution_count": 89,
   "metadata": {},
   "outputs": [],
   "source": [
    "df = pd.read_csv('tjxy.csv')"
   ]
  },
  {
   "cell_type": "code",
   "execution_count": 90,
   "metadata": {},
   "outputs": [],
   "source": [
    "df['下单日期'] = pd.to_datetime(df['下单日期'])\n",
    "df['实提日期'] = pd.to_datetime(df['实提日期'])"
   ]
  },
  {
   "cell_type": "code",
   "execution_count": 91,
   "metadata": {},
   "outputs": [
    {
     "data": {
      "text/plain": [
       "61"
      ]
     },
     "execution_count": 91,
     "metadata": {},
     "output_type": "execute_result"
    }
   ],
   "source": [
    "len(df)"
   ]
  },
  {
   "cell_type": "code",
   "execution_count": 92,
   "metadata": {},
   "outputs": [
    {
     "data": {
      "text/html": [
       "<div>\n",
       "<style scoped>\n",
       "    .dataframe tbody tr th:only-of-type {\n",
       "        vertical-align: middle;\n",
       "    }\n",
       "\n",
       "    .dataframe tbody tr th {\n",
       "        vertical-align: top;\n",
       "    }\n",
       "\n",
       "    .dataframe thead th {\n",
       "        text-align: right;\n",
       "    }\n",
       "</style>\n",
       "<table border=\"1\" class=\"dataframe\">\n",
       "  <thead>\n",
       "    <tr style=\"text-align: right;\">\n",
       "      <th></th>\n",
       "      <th>订单编号</th>\n",
       "      <th>供应商名称</th>\n",
       "      <th>下单日期</th>\n",
       "      <th>实提日期</th>\n",
       "      <th>实提吨数</th>\n",
       "    </tr>\n",
       "  </thead>\n",
       "  <tbody>\n",
       "    <tr>\n",
       "      <th>0</th>\n",
       "      <td>XS19120912925252</td>\n",
       "      <td>天津星友科技发展有限公司</td>\n",
       "      <td>2019-12-09</td>\n",
       "      <td>2019-12-10</td>\n",
       "      <td>496.57</td>\n",
       "    </tr>\n",
       "    <tr>\n",
       "      <th>1</th>\n",
       "      <td>XS19112712892892</td>\n",
       "      <td>天津星友科技发展有限公司</td>\n",
       "      <td>2019-11-27</td>\n",
       "      <td>2019-11-28</td>\n",
       "      <td>169.06</td>\n",
       "    </tr>\n",
       "  </tbody>\n",
       "</table>\n",
       "</div>"
      ],
      "text/plain": [
       "               订单编号         供应商名称       下单日期       实提日期    实提吨数\n",
       "0  XS19120912925252  天津星友科技发展有限公司 2019-12-09 2019-12-10  496.57\n",
       "1  XS19112712892892  天津星友科技发展有限公司 2019-11-27 2019-11-28  169.06"
      ]
     },
     "execution_count": 92,
     "metadata": {},
     "output_type": "execute_result"
    }
   ],
   "source": [
    "df.head(2)"
   ]
  },
  {
   "cell_type": "code",
   "execution_count": 93,
   "metadata": {},
   "outputs": [
    {
     "data": {
      "text/plain": [
       "59"
      ]
     },
     "execution_count": 93,
     "metadata": {},
     "output_type": "execute_result"
    }
   ],
   "source": [
    "len(df['订单编号'].unique())"
   ]
  },
  {
   "cell_type": "code",
   "execution_count": 94,
   "metadata": {},
   "outputs": [
    {
     "data": {
      "text/plain": [
       "Timestamp('2019-12-09 00:00:00')"
      ]
     },
     "execution_count": 94,
     "metadata": {},
     "output_type": "execute_result"
    }
   ],
   "source": [
    "pd.to_datetime(df.iloc[0, 2])"
   ]
  },
  {
   "cell_type": "code",
   "execution_count": 95,
   "metadata": {},
   "outputs": [
    {
     "data": {
      "text/plain": [
       "Timestamp('2019-07-16 00:00:00')"
      ]
     },
     "execution_count": 95,
     "metadata": {},
     "output_type": "execute_result"
    }
   ],
   "source": [
    "pd.to_datetime(df['下单日期'].min())"
   ]
  },
  {
   "cell_type": "code",
   "execution_count": 96,
   "metadata": {},
   "outputs": [
    {
     "data": {
      "text/plain": [
       "Timestamp('2019-12-09 00:00:00')"
      ]
     },
     "execution_count": 96,
     "metadata": {},
     "output_type": "execute_result"
    }
   ],
   "source": [
    "pd.to_datetime(df['下单日期'].max())"
   ]
  },
  {
   "cell_type": "code",
   "execution_count": 98,
   "metadata": {},
   "outputs": [],
   "source": [
    "amount_need_dict = {}\n",
    "for d in days_for_loop:\n",
    "    crit1 = df['下单日期'] <= d\n",
    "    crit2 = df['实提日期'] >= d\n",
    "    df_on = df[crit1 & crit2]\n",
    "    if len(df_on) == 0:\n",
    "        amount_need_dict[d] = 0\n",
    "    else:\n",
    "        amount_need_dict[d] = df_on['实提吨数'].sum()\n",
    "    # print(d)"
   ]
  },
  {
   "cell_type": "code",
   "execution_count": 99,
   "metadata": {},
   "outputs": [
    {
     "data": {
      "text/plain": [
       "<matplotlib.axes._subplots.AxesSubplot at 0x203974aff28>"
      ]
     },
     "execution_count": 99,
     "metadata": {},
     "output_type": "execute_result"
    },
    {
     "data": {
      "image/png": "[encoded data removed]",
      "text/plain": [
       "<Figure size 1080x504 with 1 Axes>"
      ]
     },
     "metadata": {
      "needs_background": "light"
     },
     "output_type": "display_data"
    }
   ],
   "source": [
    "pd.Series(amount_need_dict).plot(figsize=(15, 7))"
   ]
  },
  {
   "cell_type": "code",
   "execution_count": 88,
   "metadata": {},
   "outputs": [
    {
     "data": {
      "text/plain": [
       "<matplotlib.axes._subplots.AxesSubplot at 0x203973a6358>"
      ]
     },
     "execution_count": 88,
     "metadata": {},
     "output_type": "execute_result"
    },
    {
     "data": {
      "image/png": "[encoded data removed]",
      "text/plain": [
       "<Figure size 1080x504 with 1 Axes>"
      ]
     },
     "metadata": {
      "needs_background": "light"
     },
     "output_type": "display_data"
    }
   ],
   "source": [
    "pd.Series(amount_need_dict).plot(figsize=(15, 7))"
   ]
  },
  {
   "cell_type": "code",
   "execution_count": 77,
   "metadata": {},
   "outputs": [
    {
     "data": {
      "text/plain": [
       "<matplotlib.axes._subplots.AxesSubplot at 0x2039733bc88>"
      ]
     },
     "execution_count": 77,
     "metadata": {},
     "output_type": "execute_result"
    },
    {
     "data": {
      "image/png": "[encoded data removed]",
      "text/plain": [
       "<Figure size 1080x504 with 1 Axes>"
      ]
     },
     "metadata": {
      "needs_background": "light"
     },
     "output_type": "display_data"
    }
   ],
   "source": [
    "pd.Series(amount_need_dict).plot(figsize=(15, 7))"
   ]
  },
  {
   "cell_type": "code",
   "execution_count": 67,
   "metadata": {},
   "outputs": [],
   "source": [
    "###以下不是主流程"
   ]
  },
  {
   "cell_type": "code",
   "execution_count": 56,
   "metadata": {},
   "outputs": [],
   "source": [
    "crit1 = df['下单日期'] <= d\n",
    "crit2 = df['实提日期'] >= d\n",
    "df_on = df[crit1 & crit2]"
   ]
  },
  {
   "cell_type": "code",
   "execution_count": 61,
   "metadata": {},
   "outputs": [
    {
     "data": {
      "text/plain": [
       "2749.861"
      ]
     },
     "execution_count": 61,
     "metadata": {},
     "output_type": "execute_result"
    }
   ],
   "source": [
    "df[crit1 & crit2]['实提吨数'].sum()"
   ]
  },
  {
   "cell_type": "code",
   "execution_count": 97,
   "metadata": {},
   "outputs": [
    {
     "data": {
      "text/plain": [
       "DatetimeIndex(['2019-07-16', '2019-07-17', '2019-07-18', '2019-07-19',\n",
       "               '2019-07-20', '2019-07-21', '2019-07-22', '2019-07-23',\n",
       "               '2019-07-24', '2019-07-25',\n",
       "               ...\n",
       "               '2019-12-01', '2019-12-02', '2019-12-03', '2019-12-04',\n",
       "               '2019-12-05', '2019-12-06', '2019-12-07', '2019-12-08',\n",
       "               '2019-12-09', '2019-12-10'],\n",
       "              dtype='datetime64[ns]', length=148, freq='D')"
      ]
     },
     "execution_count": 97,
     "metadata": {},
     "output_type": "execute_result"
    }
   ],
   "source": [
    "days_for_loop = pd.date_range(start=pd.to_datetime(df['下单日期'].min()), end=pd.to_datetime(df['实提日期'].max()))\n",
    "days_for_loop"
   ]
  },
  {
   "cell_type": "code",
   "execution_count": null,
   "metadata": {},
   "outputs": [],
   "source": []
  },
  {
   "cell_type": "code",
   "execution_count": 1,
   "metadata": {},
   "outputs": [],
   "source": [
    "# 分析下当前额度情况"
   ]
  },
  {
   "cell_type": "code",
   "execution_count": 3,
   "metadata": {},
   "outputs": [],
   "source": [
    "df = pd.read_excel('供应商实际额度2020-06-11.xls', sheet_name='华北')"
   ]
  },
  {
   "cell_type": "code",
   "execution_count": 6,
   "metadata": {},
   "outputs": [
    {
     "data": {
      "text/html": [
       "<div>\n",
       "<style scoped>\n",
       "    .dataframe tbody tr th:only-of-type {\n",
       "        vertical-align: middle;\n",
       "    }\n",
       "\n",
       "    .dataframe tbody tr th {\n",
       "        vertical-align: top;\n",
       "    }\n",
       "\n",
       "    .dataframe thead th {\n",
       "        text-align: right;\n",
       "    }\n",
       "</style>\n",
       "<table border=\"1\" class=\"dataframe\">\n",
       "  <thead>\n",
       "    <tr style=\"text-align: right;\">\n",
       "      <th></th>\n",
       "      <th>大区</th>\n",
       "      <th>供应商编码</th>\n",
       "      <th>供应商抬头</th>\n",
       "      <th>启用品线</th>\n",
       "      <th>招商</th>\n",
       "      <th>运营</th>\n",
       "      <th>总额度（吨）</th>\n",
       "      <th>联营返利</th>\n",
       "      <th>当日订单重量（吨）</th>\n",
       "      <th>联营利润（元）</th>\n",
       "      <th>未支款（吨）</th>\n",
       "      <th>未提货（吨）</th>\n",
       "      <th>未实提（吨）</th>\n",
       "      <th>剩余可售额度（吨）</th>\n",
       "      <th>可售额度占比</th>\n",
       "    </tr>\n",
       "  </thead>\n",
       "  <tbody>\n",
       "    <tr>\n",
       "      <th>0</th>\n",
       "      <td>华北区</td>\n",
       "      <td>10000202</td>\n",
       "      <td>建发（上海）有限公司</td>\n",
       "      <td>热卷</td>\n",
       "      <td>张克磊/张琦/李明</td>\n",
       "      <td>赵滢</td>\n",
       "      <td>10000</td>\n",
       "      <td>0</td>\n",
       "      <td>0</td>\n",
       "      <td>0</td>\n",
       "      <td>513</td>\n",
       "      <td>313</td>\n",
       "      <td>456</td>\n",
       "      <td>8718</td>\n",
       "      <td>87.18%</td>\n",
       "    </tr>\n",
       "    <tr>\n",
       "      <th>1</th>\n",
       "      <td>华北区</td>\n",
       "      <td>10000363</td>\n",
       "      <td>天津津路钢铁实业有限公司</td>\n",
       "      <td>冷镀/热卷/中板</td>\n",
       "      <td>焦晓利</td>\n",
       "      <td>赵滢</td>\n",
       "      <td>1474</td>\n",
       "      <td>3/0/0</td>\n",
       "      <td>0</td>\n",
       "      <td>0</td>\n",
       "      <td>0</td>\n",
       "      <td>0</td>\n",
       "      <td>0</td>\n",
       "      <td>1474</td>\n",
       "      <td>100.00%</td>\n",
       "    </tr>\n",
       "    <tr>\n",
       "      <th>2</th>\n",
       "      <td>华北区</td>\n",
       "      <td>10000422</td>\n",
       "      <td>天津启润投资有限公司</td>\n",
       "      <td>冷镀/热卷/建材/中板</td>\n",
       "      <td>焦晓利</td>\n",
       "      <td>赵天</td>\n",
       "      <td>10000</td>\n",
       "      <td>0/0</td>\n",
       "      <td>59</td>\n",
       "      <td>0</td>\n",
       "      <td>149</td>\n",
       "      <td>327</td>\n",
       "      <td>1005</td>\n",
       "      <td>8519</td>\n",
       "      <td>85.19%</td>\n",
       "    </tr>\n",
       "    <tr>\n",
       "      <th>3</th>\n",
       "      <td>华北区</td>\n",
       "      <td>10003867</td>\n",
       "      <td>福州诚盛贸易有限公司</td>\n",
       "      <td>建材</td>\n",
       "      <td>杨德国</td>\n",
       "      <td>杨美娟/覃忆莲/赵滢</td>\n",
       "      <td>1600</td>\n",
       "      <td>3</td>\n",
       "      <td>0</td>\n",
       "      <td>0</td>\n",
       "      <td>0</td>\n",
       "      <td>0</td>\n",
       "      <td>0</td>\n",
       "      <td>1600</td>\n",
       "      <td>100.00%</td>\n",
       "    </tr>\n",
       "    <tr>\n",
       "      <th>4</th>\n",
       "      <td>华北区</td>\n",
       "      <td>10003938</td>\n",
       "      <td>北京中铁建工物资有限公司</td>\n",
       "      <td>建材</td>\n",
       "      <td>刘桥</td>\n",
       "      <td>周辉/朱学群/赵天/赵滢/郭玉杰/金鑫</td>\n",
       "      <td>20000</td>\n",
       "      <td>0/0</td>\n",
       "      <td>0</td>\n",
       "      <td>0</td>\n",
       "      <td>83</td>\n",
       "      <td>1399</td>\n",
       "      <td>2032</td>\n",
       "      <td>16486</td>\n",
       "      <td>82.43%</td>\n",
       "    </tr>\n",
       "  </tbody>\n",
       "</table>\n",
       "</div>"
      ],
      "text/plain": [
       "   大区     供应商编码         供应商抬头         启用品线         招商                   运营   \\\n",
       "0  华北区  10000202    建发（上海）有限公司           热卷  张克磊/张琦/李明                   赵滢   \n",
       "1  华北区  10000363  天津津路钢铁实业有限公司     冷镀/热卷/中板        焦晓利                   赵滢   \n",
       "2  华北区  10000422    天津启润投资有限公司  冷镀/热卷/建材/中板        焦晓利                   赵天   \n",
       "3  华北区  10003867    福州诚盛贸易有限公司           建材        杨德国           杨美娟/覃忆莲/赵滢   \n",
       "4  华北区  10003938  北京中铁建工物资有限公司           建材         刘桥  周辉/朱学群/赵天/赵滢/郭玉杰/金鑫   \n",
       "\n",
       "   总额度（吨）   联营返利   当日订单重量（吨）   联营利润（元）   未支款（吨）   未提货（吨）   未实提（吨）   \\\n",
       "0    10000      0           0         0      513      313      456   \n",
       "1     1474  3/0/0           0         0        0        0        0   \n",
       "2    10000    0/0          59         0      149      327     1005   \n",
       "3     1600      3           0         0        0        0        0   \n",
       "4    20000    0/0           0         0       83     1399     2032   \n",
       "\n",
       "   剩余可售额度（吨）   可售额度占比   \n",
       "0        8718   87.18%  \n",
       "1        1474  100.00%  \n",
       "2        8519   85.19%  \n",
       "3        1600  100.00%  \n",
       "4       16486   82.43%  "
      ]
     },
     "execution_count": 6,
     "metadata": {},
     "output_type": "execute_result"
    }
   ],
   "source": [
    "df.head()"
   ]
  },
  {
   "cell_type": "code",
   "execution_count": 8,
   "metadata": {},
   "outputs": [
    {
     "data": {
      "text/plain": [
       "Index(['大区 ', '供应商编码 ', '供应商抬头 ', '启用品线 ', '招商 ', '运营 ', '总额度（吨） ', '联营返利 ',\n",
       "       '当日订单重量（吨） ', '联营利润（元） ', '未支款（吨） ', '未提货（吨） ', '未实提（吨） ', '剩余可售额度（吨） ',\n",
       "       '可售额度占比 '],\n",
       "      dtype='object')"
      ]
     },
     "execution_count": 8,
     "metadata": {},
     "output_type": "execute_result"
    }
   ],
   "source": [
    "df.columns"
   ]
  },
  {
   "cell_type": "code",
   "execution_count": 20,
   "metadata": {},
   "outputs": [
    {
     "data": {
      "text/plain": [
       "703387"
      ]
     },
     "execution_count": 20,
     "metadata": {},
     "output_type": "execute_result"
    }
   ],
   "source": [
    "df['总额度（吨） '].sum()"
   ]
  },
  {
   "cell_type": "code",
   "execution_count": 10,
   "metadata": {},
   "outputs": [
    {
     "data": {
      "text/plain": [
       "count      441.000000\n",
       "mean      1594.981859\n",
       "std       1800.756134\n",
       "min        200.000000\n",
       "25%        500.000000\n",
       "50%       1000.000000\n",
       "75%       2000.000000\n",
       "max      20000.000000\n",
       "Name: 总额度（吨） , dtype: float64"
      ]
     },
     "execution_count": 10,
     "metadata": {},
     "output_type": "execute_result"
    }
   ],
   "source": [
    "df['总额度（吨） '].describe()"
   ]
  },
  {
   "cell_type": "code",
   "execution_count": 11,
   "metadata": {},
   "outputs": [
    {
     "data": {
      "text/plain": [
       "<matplotlib.axes._subplots.AxesSubplot at 0x19e70445c88>"
      ]
     },
     "execution_count": 11,
     "metadata": {},
     "output_type": "execute_result"
    },
    {
     "data": {
      "image/png": "[encoded data removed]",
      "text/plain": [
       "<Figure size 432x288 with 1 Axes>"
      ]
     },
     "metadata": {
      "needs_background": "light"
     },
     "output_type": "display_data"
    }
   ],
   "source": [
    "df['总额度（吨） '].describe().plot(kind='hist')"
   ]
  },
  {
   "cell_type": "code",
   "execution_count": 17,
   "metadata": {},
   "outputs": [
    {
     "data": {
      "text/plain": [
       "<matplotlib.axes._subplots.AxesSubplot at 0x19e7040f320>"
      ]
     },
     "execution_count": 17,
     "metadata": {},
     "output_type": "execute_result"
    },
    {
     "data": {
      "image/png": "[encoded data removed]",
      "text/plain": [
       "<Figure size 432x288 with 1 Axes>"
      ]
     },
     "metadata": {
      "needs_background": "light"
     },
     "output_type": "display_data"
    }
   ],
   "source": [
    "df['总额度（吨） '].value_counts().sort_index().plot()"
   ]
  },
  {
   "cell_type": "code",
   "execution_count": 29,
   "metadata": {},
   "outputs": [
    {
     "data": {
      "text/html": [
       "<div>\n",
       "<style scoped>\n",
       "    .dataframe tbody tr th:only-of-type {\n",
       "        vertical-align: middle;\n",
       "    }\n",
       "\n",
       "    .dataframe tbody tr th {\n",
       "        vertical-align: top;\n",
       "    }\n",
       "\n",
       "    .dataframe thead th {\n",
       "        text-align: right;\n",
       "    }\n",
       "</style>\n",
       "<table border=\"1\" class=\"dataframe\">\n",
       "  <thead>\n",
       "    <tr style=\"text-align: right;\">\n",
       "      <th></th>\n",
       "      <th>大区</th>\n",
       "      <th>供应商编码</th>\n",
       "      <th>供应商抬头</th>\n",
       "      <th>启用品线</th>\n",
       "      <th>招商</th>\n",
       "      <th>运营</th>\n",
       "      <th>总额度（吨）</th>\n",
       "      <th>联营返利</th>\n",
       "      <th>当日订单重量（吨）</th>\n",
       "      <th>联营利润（元）</th>\n",
       "      <th>未支款（吨）</th>\n",
       "      <th>未提货（吨）</th>\n",
       "      <th>未实提（吨）</th>\n",
       "      <th>剩余可售额度（吨）</th>\n",
       "      <th>可售额度占比</th>\n",
       "    </tr>\n",
       "  </thead>\n",
       "  <tbody>\n",
       "    <tr>\n",
       "      <th>0</th>\n",
       "      <td>华北区</td>\n",
       "      <td>10000202</td>\n",
       "      <td>建发（上海）有限公司</td>\n",
       "      <td>热卷</td>\n",
       "      <td>张克磊/张琦/李明</td>\n",
       "      <td>赵滢</td>\n",
       "      <td>10000</td>\n",
       "      <td>0</td>\n",
       "      <td>0</td>\n",
       "      <td>0</td>\n",
       "      <td>513</td>\n",
       "      <td>313</td>\n",
       "      <td>456</td>\n",
       "      <td>8718</td>\n",
       "      <td>87.18%</td>\n",
       "    </tr>\n",
       "    <tr>\n",
       "      <th>2</th>\n",
       "      <td>华北区</td>\n",
       "      <td>10000422</td>\n",
       "      <td>天津启润投资有限公司</td>\n",
       "      <td>冷镀/热卷/建材/中板</td>\n",
       "      <td>焦晓利</td>\n",
       "      <td>赵天</td>\n",
       "      <td>10000</td>\n",
       "      <td>0/0</td>\n",
       "      <td>59</td>\n",
       "      <td>0</td>\n",
       "      <td>149</td>\n",
       "      <td>327</td>\n",
       "      <td>1005</td>\n",
       "      <td>8519</td>\n",
       "      <td>85.19%</td>\n",
       "    </tr>\n",
       "    <tr>\n",
       "      <th>4</th>\n",
       "      <td>华北区</td>\n",
       "      <td>10003938</td>\n",
       "      <td>北京中铁建工物资有限公司</td>\n",
       "      <td>建材</td>\n",
       "      <td>刘桥</td>\n",
       "      <td>周辉/朱学群/赵天/赵滢/郭玉杰/金鑫</td>\n",
       "      <td>20000</td>\n",
       "      <td>0/0</td>\n",
       "      <td>0</td>\n",
       "      <td>0</td>\n",
       "      <td>83</td>\n",
       "      <td>1399</td>\n",
       "      <td>2032</td>\n",
       "      <td>16486</td>\n",
       "      <td>82.43%</td>\n",
       "    </tr>\n",
       "    <tr>\n",
       "      <th>7</th>\n",
       "      <td>华北区</td>\n",
       "      <td>10004221</td>\n",
       "      <td>泰安市至伟经贸有限公司</td>\n",
       "      <td>中板</td>\n",
       "      <td>张克磊</td>\n",
       "      <td>孙良艳</td>\n",
       "      <td>5000</td>\n",
       "      <td>0</td>\n",
       "      <td>0</td>\n",
       "      <td>0</td>\n",
       "      <td>0</td>\n",
       "      <td>172</td>\n",
       "      <td>124</td>\n",
       "      <td>4704</td>\n",
       "      <td>94.08%</td>\n",
       "    </tr>\n",
       "    <tr>\n",
       "      <th>8</th>\n",
       "      <td>华北区</td>\n",
       "      <td>10004307</td>\n",
       "      <td>苏美达国际技术贸易有限公司</td>\n",
       "      <td>冷镀/热卷/建材/中板</td>\n",
       "      <td>张超</td>\n",
       "      <td>赵滢</td>\n",
       "      <td>5000</td>\n",
       "      <td>2/2/1</td>\n",
       "      <td>0</td>\n",
       "      <td>0</td>\n",
       "      <td>0</td>\n",
       "      <td>591</td>\n",
       "      <td>23</td>\n",
       "      <td>4386</td>\n",
       "      <td>87.72%</td>\n",
       "    </tr>\n",
       "    <tr>\n",
       "      <th>46</th>\n",
       "      <td>华北区</td>\n",
       "      <td>I010009280</td>\n",
       "      <td>泊头市海成钢材物资有限公司</td>\n",
       "      <td>热卷</td>\n",
       "      <td>杨德国</td>\n",
       "      <td>赵滢</td>\n",
       "      <td>8000</td>\n",
       "      <td>10</td>\n",
       "      <td>0</td>\n",
       "      <td>0</td>\n",
       "      <td>969</td>\n",
       "      <td>1158</td>\n",
       "      <td>1455</td>\n",
       "      <td>4418</td>\n",
       "      <td>55.23%</td>\n",
       "    </tr>\n",
       "    <tr>\n",
       "      <th>83</th>\n",
       "      <td>华北区</td>\n",
       "      <td>I010014294</td>\n",
       "      <td>厦门海翼国际贸易有限公司</td>\n",
       "      <td>热卷</td>\n",
       "      <td>杨德国</td>\n",
       "      <td>赵滢</td>\n",
       "      <td>10000</td>\n",
       "      <td>NaN</td>\n",
       "      <td>0</td>\n",
       "      <td>0</td>\n",
       "      <td>1054</td>\n",
       "      <td>1783</td>\n",
       "      <td>638</td>\n",
       "      <td>6525</td>\n",
       "      <td>65.25%</td>\n",
       "    </tr>\n",
       "    <tr>\n",
       "      <th>87</th>\n",
       "      <td>华北区</td>\n",
       "      <td>I010018328</td>\n",
       "      <td>北京住总物流科技有限公司</td>\n",
       "      <td>冷镀/热卷/中板</td>\n",
       "      <td>刘桥</td>\n",
       "      <td>金鑫</td>\n",
       "      <td>5000</td>\n",
       "      <td>0/0</td>\n",
       "      <td>55</td>\n",
       "      <td>0</td>\n",
       "      <td>28</td>\n",
       "      <td>697</td>\n",
       "      <td>1496</td>\n",
       "      <td>2779</td>\n",
       "      <td>55.58%</td>\n",
       "    </tr>\n",
       "    <tr>\n",
       "      <th>123</th>\n",
       "      <td>华北区</td>\n",
       "      <td>I010020624</td>\n",
       "      <td>北京鑫航路商贸有限公司</td>\n",
       "      <td>建材</td>\n",
       "      <td>刘桥</td>\n",
       "      <td>金鑫</td>\n",
       "      <td>6598</td>\n",
       "      <td>2</td>\n",
       "      <td>0</td>\n",
       "      <td>0</td>\n",
       "      <td>0</td>\n",
       "      <td>32</td>\n",
       "      <td>464</td>\n",
       "      <td>6102</td>\n",
       "      <td>92.48%</td>\n",
       "    </tr>\n",
       "    <tr>\n",
       "      <th>136</th>\n",
       "      <td>华北区</td>\n",
       "      <td>I010021914</td>\n",
       "      <td>天津巨奥钢铁贸易有限公司</td>\n",
       "      <td>建材</td>\n",
       "      <td>杨德国</td>\n",
       "      <td>赵滢</td>\n",
       "      <td>5000</td>\n",
       "      <td>2</td>\n",
       "      <td>0</td>\n",
       "      <td>0</td>\n",
       "      <td>0</td>\n",
       "      <td>66</td>\n",
       "      <td>462</td>\n",
       "      <td>4472</td>\n",
       "      <td>89.44%</td>\n",
       "    </tr>\n",
       "    <tr>\n",
       "      <th>137</th>\n",
       "      <td>华北区</td>\n",
       "      <td>I010021916</td>\n",
       "      <td>天津弘大科技有限公司</td>\n",
       "      <td>建材</td>\n",
       "      <td>杨德国</td>\n",
       "      <td>赵滢</td>\n",
       "      <td>5000</td>\n",
       "      <td>2</td>\n",
       "      <td>0</td>\n",
       "      <td>0</td>\n",
       "      <td>0</td>\n",
       "      <td>29</td>\n",
       "      <td>840</td>\n",
       "      <td>4131</td>\n",
       "      <td>82.62%</td>\n",
       "    </tr>\n",
       "    <tr>\n",
       "      <th>150</th>\n",
       "      <td>华北区</td>\n",
       "      <td>I010022296</td>\n",
       "      <td>汇金工贸（天津）有限公司</td>\n",
       "      <td>冷镀/热卷/建材/中板</td>\n",
       "      <td>杨德国</td>\n",
       "      <td>徐雯/赵滢</td>\n",
       "      <td>7000</td>\n",
       "      <td>1</td>\n",
       "      <td>35</td>\n",
       "      <td>91</td>\n",
       "      <td>622</td>\n",
       "      <td>104</td>\n",
       "      <td>3524</td>\n",
       "      <td>2750</td>\n",
       "      <td>39.29%</td>\n",
       "    </tr>\n",
       "    <tr>\n",
       "      <th>151</th>\n",
       "      <td>华北区</td>\n",
       "      <td>I010022298</td>\n",
       "      <td>汇金钢材加工（天津）有限公司</td>\n",
       "      <td>冷镀/热卷</td>\n",
       "      <td>杨德国</td>\n",
       "      <td>徐雯/赵滢</td>\n",
       "      <td>8000</td>\n",
       "      <td>1</td>\n",
       "      <td>154</td>\n",
       "      <td>769</td>\n",
       "      <td>579</td>\n",
       "      <td>1206</td>\n",
       "      <td>5271</td>\n",
       "      <td>944</td>\n",
       "      <td>11.80%</td>\n",
       "    </tr>\n",
       "    <tr>\n",
       "      <th>155</th>\n",
       "      <td>华北区</td>\n",
       "      <td>I010022530</td>\n",
       "      <td>北京瑞超兴隆商贸有限公司</td>\n",
       "      <td>建材</td>\n",
       "      <td>刘桥</td>\n",
       "      <td>金鑫</td>\n",
       "      <td>9000</td>\n",
       "      <td>2</td>\n",
       "      <td>264</td>\n",
       "      <td>460</td>\n",
       "      <td>327</td>\n",
       "      <td>1463</td>\n",
       "      <td>3405</td>\n",
       "      <td>3805</td>\n",
       "      <td>42.28%</td>\n",
       "    </tr>\n",
       "    <tr>\n",
       "      <th>168</th>\n",
       "      <td>华北区</td>\n",
       "      <td>I010022766</td>\n",
       "      <td>钢棒棒电子商务有限公司</td>\n",
       "      <td>建材</td>\n",
       "      <td>刘桥</td>\n",
       "      <td>赵滢</td>\n",
       "      <td>5000</td>\n",
       "      <td>2</td>\n",
       "      <td>26</td>\n",
       "      <td>51</td>\n",
       "      <td>26</td>\n",
       "      <td>169</td>\n",
       "      <td>1174</td>\n",
       "      <td>3631</td>\n",
       "      <td>72.62%</td>\n",
       "    </tr>\n",
       "    <tr>\n",
       "      <th>170</th>\n",
       "      <td>华北区</td>\n",
       "      <td>I010022776</td>\n",
       "      <td>济南市莱芜区高新兴源商贸有限公司</td>\n",
       "      <td>热卷</td>\n",
       "      <td>毛明霖</td>\n",
       "      <td>孙良艳</td>\n",
       "      <td>8000</td>\n",
       "      <td>2</td>\n",
       "      <td>0</td>\n",
       "      <td>0</td>\n",
       "      <td>0</td>\n",
       "      <td>684</td>\n",
       "      <td>171</td>\n",
       "      <td>7145</td>\n",
       "      <td>89.31%</td>\n",
       "    </tr>\n",
       "    <tr>\n",
       "      <th>228</th>\n",
       "      <td>华北区</td>\n",
       "      <td>I010023784</td>\n",
       "      <td>启润物流（厦门）有限公司</td>\n",
       "      <td>建材</td>\n",
       "      <td>胡冬明</td>\n",
       "      <td>赵天</td>\n",
       "      <td>5000</td>\n",
       "      <td>0</td>\n",
       "      <td>0</td>\n",
       "      <td>0</td>\n",
       "      <td>0</td>\n",
       "      <td>0</td>\n",
       "      <td>259</td>\n",
       "      <td>4741</td>\n",
       "      <td>94.82%</td>\n",
       "    </tr>\n",
       "    <tr>\n",
       "      <th>313</th>\n",
       "      <td>华北区</td>\n",
       "      <td>I010026648</td>\n",
       "      <td>青岛山海川经贸有限公司</td>\n",
       "      <td>建材</td>\n",
       "      <td>张超</td>\n",
       "      <td>赵天</td>\n",
       "      <td>5000</td>\n",
       "      <td>2</td>\n",
       "      <td>0</td>\n",
       "      <td>0</td>\n",
       "      <td>0</td>\n",
       "      <td>0</td>\n",
       "      <td>370</td>\n",
       "      <td>4630</td>\n",
       "      <td>92.60%</td>\n",
       "    </tr>\n",
       "    <tr>\n",
       "      <th>330</th>\n",
       "      <td>华北区</td>\n",
       "      <td>I010027476</td>\n",
       "      <td>福建省万展信息科技有限公司</td>\n",
       "      <td>建材</td>\n",
       "      <td>杨德国</td>\n",
       "      <td>杨美娟/杨芬/覃忆莲/赵滢</td>\n",
       "      <td>10000</td>\n",
       "      <td>3</td>\n",
       "      <td>0</td>\n",
       "      <td>0</td>\n",
       "      <td>103</td>\n",
       "      <td>2717</td>\n",
       "      <td>5547</td>\n",
       "      <td>1633</td>\n",
       "      <td>16.33%</td>\n",
       "    </tr>\n",
       "  </tbody>\n",
       "</table>\n",
       "</div>"
      ],
      "text/plain": [
       "     大区       供应商编码             供应商抬头         启用品线         招商   \\\n",
       "0    华北区    10000202        建发（上海）有限公司           热卷  张克磊/张琦/李明   \n",
       "2    华北区    10000422        天津启润投资有限公司  冷镀/热卷/建材/中板        焦晓利   \n",
       "4    华北区    10003938      北京中铁建工物资有限公司           建材         刘桥   \n",
       "7    华北区    10004221       泰安市至伟经贸有限公司           中板        张克磊   \n",
       "8    华北区    10004307     苏美达国际技术贸易有限公司  冷镀/热卷/建材/中板         张超   \n",
       "46   华北区  I010009280     泊头市海成钢材物资有限公司           热卷        杨德国   \n",
       "83   华北区  I010014294      厦门海翼国际贸易有限公司           热卷        杨德国   \n",
       "87   华北区  I010018328      北京住总物流科技有限公司     冷镀/热卷/中板         刘桥   \n",
       "123  华北区  I010020624       北京鑫航路商贸有限公司           建材         刘桥   \n",
       "136  华北区  I010021914      天津巨奥钢铁贸易有限公司           建材        杨德国   \n",
       "137  华北区  I010021916        天津弘大科技有限公司           建材        杨德国   \n",
       "150  华北区  I010022296      汇金工贸（天津）有限公司  冷镀/热卷/建材/中板        杨德国   \n",
       "151  华北区  I010022298    汇金钢材加工（天津）有限公司        冷镀/热卷        杨德国   \n",
       "155  华北区  I010022530      北京瑞超兴隆商贸有限公司           建材         刘桥   \n",
       "168  华北区  I010022766       钢棒棒电子商务有限公司           建材         刘桥   \n",
       "170  华北区  I010022776  济南市莱芜区高新兴源商贸有限公司           热卷        毛明霖   \n",
       "228  华北区  I010023784      启润物流（厦门）有限公司           建材        胡冬明   \n",
       "313  华北区  I010026648       青岛山海川经贸有限公司           建材         张超   \n",
       "330  华北区  I010027476     福建省万展信息科技有限公司           建材        杨德国   \n",
       "\n",
       "                     运营   总额度（吨）   联营返利   当日订单重量（吨）   联营利润（元）   未支款（吨）   \\\n",
       "0                     赵滢    10000      0           0         0      513   \n",
       "2                     赵天    10000    0/0          59         0      149   \n",
       "4    周辉/朱学群/赵天/赵滢/郭玉杰/金鑫    20000    0/0           0         0       83   \n",
       "7                    孙良艳     5000      0           0         0        0   \n",
       "8                     赵滢     5000  2/2/1           0         0        0   \n",
       "46                    赵滢     8000     10           0         0      969   \n",
       "83                    赵滢    10000    NaN           0         0     1054   \n",
       "87                    金鑫     5000    0/0          55         0       28   \n",
       "123                   金鑫     6598      2           0         0        0   \n",
       "136                   赵滢     5000      2           0         0        0   \n",
       "137                   赵滢     5000      2           0         0        0   \n",
       "150                徐雯/赵滢     7000      1          35        91      622   \n",
       "151                徐雯/赵滢     8000      1         154       769      579   \n",
       "155                   金鑫     9000      2         264       460      327   \n",
       "168                   赵滢     5000      2          26        51       26   \n",
       "170                  孙良艳     8000      2           0         0        0   \n",
       "228                   赵天     5000      0           0         0        0   \n",
       "313                   赵天     5000      2           0         0        0   \n",
       "330        杨美娟/杨芬/覃忆莲/赵滢    10000      3           0         0      103   \n",
       "\n",
       "     未提货（吨）   未实提（吨）   剩余可售额度（吨）  可售额度占比   \n",
       "0        313      456        8718  87.18%  \n",
       "2        327     1005        8519  85.19%  \n",
       "4       1399     2032       16486  82.43%  \n",
       "7        172      124        4704  94.08%  \n",
       "8        591       23        4386  87.72%  \n",
       "46      1158     1455        4418  55.23%  \n",
       "83      1783      638        6525  65.25%  \n",
       "87       697     1496        2779  55.58%  \n",
       "123       32      464        6102  92.48%  \n",
       "136       66      462        4472  89.44%  \n",
       "137       29      840        4131  82.62%  \n",
       "150      104     3524        2750  39.29%  \n",
       "151     1206     5271         944  11.80%  \n",
       "155     1463     3405        3805  42.28%  \n",
       "168      169     1174        3631  72.62%  \n",
       "170      684      171        7145  89.31%  \n",
       "228        0      259        4741  94.82%  \n",
       "313        0      370        4630  92.60%  \n",
       "330     2717     5547        1633  16.33%  "
      ]
     },
     "execution_count": 29,
     "metadata": {},
     "output_type": "execute_result"
    }
   ],
   "source": [
    "df[df['总额度（吨） '] >= 5000]"
   ]
  },
  {
   "cell_type": "code",
   "execution_count": 14,
   "metadata": {},
   "outputs": [],
   "source": [
    "df_trading = pd.read_csv('华北大额供应商.csv')"
   ]
  },
  {
   "cell_type": "code",
   "execution_count": 15,
   "metadata": {},
   "outputs": [],
   "source": [
    "df_trading['下单日期'] = pd.to_datetime(df_trading['下单日期'])\n",
    "df_trading['实提日期'] = pd.to_datetime(df_trading['实提日期'])"
   ]
  },
  {
   "cell_type": "code",
   "execution_count": 42,
   "metadata": {},
   "outputs": [
    {
     "data": {
      "text/plain": [
       "array(['建发（上海）有限公司', '天津启润投资有限公司', '北京中铁建工物资有限公司', '泰安市至伟经贸有限公司',\n",
       "       '苏美达国际技术贸易有限公司', '泊头市海成钢材物资有限公司', '厦门海翼国际贸易有限公司', '北京住总物流科技有限公司',\n",
       "       '北京鑫航路商贸有限公司', '天津巨奥钢铁贸易有限公司', '天津弘大科技有限公司', '汇金工贸（天津）有限公司',\n",
       "       '汇金钢材加工（天津）有限公司', '北京瑞超兴隆商贸有限公司', '钢棒棒电子商务有限公司',\n",
       "       '济南市莱芜区高新兴源商贸有限公司', '启润物流（厦门）有限公司', '青岛山海川经贸有限公司', '福建省万展信息科技有限公司'],\n",
       "      dtype=object)"
      ]
     },
     "execution_count": 42,
     "metadata": {},
     "output_type": "execute_result"
    }
   ],
   "source": [
    "df[df['总额度（吨） '] >= 5000]['供应商抬头 '].values"
   ]
  },
  {
   "cell_type": "code",
   "execution_count": 48,
   "metadata": {},
   "outputs": [
    {
     "data": {
      "text/plain": [
       "array([10000, 10000, 20000,  5000,  5000,  8000, 10000,  5000,  6598,\n",
       "        5000,  5000,  7000,  8000,  9000,  5000,  8000,  5000,  5000,\n",
       "       10000], dtype=int64)"
      ]
     },
     "execution_count": 48,
     "metadata": {},
     "output_type": "execute_result"
    }
   ],
   "source": [
    "df[df['总额度（吨） '] >= 5000]['总额度（吨） '].values"
   ]
  },
  {
   "cell_type": "code",
   "execution_count": 50,
   "metadata": {},
   "outputs": [
    {
     "data": {
      "text/plain": [
       "{'建发（上海）有限公司': 10000,\n",
       " '天津启润投资有限公司': 10000,\n",
       " '北京中铁建工物资有限公司': 20000,\n",
       " '泰安市至伟经贸有限公司': 5000,\n",
       " '苏美达国际技术贸易有限公司': 5000,\n",
       " '泊头市海成钢材物资有限公司': 8000,\n",
       " '厦门海翼国际贸易有限公司': 10000,\n",
       " '北京住总物流科技有限公司': 5000,\n",
       " '北京鑫航路商贸有限公司': 6598,\n",
       " '天津巨奥钢铁贸易有限公司': 5000,\n",
       " '天津弘大科技有限公司': 5000,\n",
       " '汇金工贸（天津）有限公司': 7000,\n",
       " '汇金钢材加工（天津）有限公司': 8000,\n",
       " '北京瑞超兴隆商贸有限公司': 9000,\n",
       " '钢棒棒电子商务有限公司': 5000,\n",
       " '济南市莱芜区高新兴源商贸有限公司': 8000,\n",
       " '启润物流（厦门）有限公司': 5000,\n",
       " '青岛山海川经贸有限公司': 5000,\n",
       " '福建省万展信息科技有限公司': 10000}"
      ]
     },
     "execution_count": 50,
     "metadata": {},
     "output_type": "execute_result"
    }
   ],
   "source": [
    "dict(zip(df[df['总额度（吨） '] >= 5000]['供应商抬头 '].values, df[df['总额度（吨） '] >= 5000]['总额度（吨） '].values))"
   ]
  },
  {
   "cell_type": "code",
   "execution_count": 16,
   "metadata": {},
   "outputs": [],
   "source": [
    "df_trading_one = df_trading[df_trading['供应商名称']=='青岛山海川经贸有限公司']"
   ]
  },
  {
   "cell_type": "code",
   "execution_count": 17,
   "metadata": {},
   "outputs": [
    {
     "data": {
      "text/html": [
       "<div>\n",
       "<style scoped>\n",
       "    .dataframe tbody tr th:only-of-type {\n",
       "        vertical-align: middle;\n",
       "    }\n",
       "\n",
       "    .dataframe tbody tr th {\n",
       "        vertical-align: top;\n",
       "    }\n",
       "\n",
       "    .dataframe thead th {\n",
       "        text-align: right;\n",
       "    }\n",
       "</style>\n",
       "<table border=\"1\" class=\"dataframe\">\n",
       "  <thead>\n",
       "    <tr style=\"text-align: right;\">\n",
       "      <th></th>\n",
       "      <th>供应商名称</th>\n",
       "      <th>下单日期</th>\n",
       "      <th>实提日期</th>\n",
       "      <th>实提吨数</th>\n",
       "    </tr>\n",
       "  </thead>\n",
       "  <tbody>\n",
       "    <tr>\n",
       "      <th>281</th>\n",
       "      <td>青岛山海川经贸有限公司</td>\n",
       "      <td>2020-06-01</td>\n",
       "      <td>2020-06-05</td>\n",
       "      <td>6.058</td>\n",
       "    </tr>\n",
       "    <tr>\n",
       "      <th>349</th>\n",
       "      <td>青岛山海川经贸有限公司</td>\n",
       "      <td>2020-05-29</td>\n",
       "      <td>2020-06-01</td>\n",
       "      <td>20.010</td>\n",
       "    </tr>\n",
       "  </tbody>\n",
       "</table>\n",
       "</div>"
      ],
      "text/plain": [
       "           供应商名称       下单日期       实提日期    实提吨数\n",
       "281  青岛山海川经贸有限公司 2020-06-01 2020-06-05   6.058\n",
       "349  青岛山海川经贸有限公司 2020-05-29 2020-06-01  20.010"
      ]
     },
     "execution_count": 17,
     "metadata": {},
     "output_type": "execute_result"
    }
   ],
   "source": [
    "df_trading_one.head(2)"
   ]
  },
  {
   "cell_type": "code",
   "execution_count": 18,
   "metadata": {},
   "outputs": [
    {
     "data": {
      "text/plain": [
       "DatetimeIndex(['2019-11-29', '2019-11-30', '2019-12-01', '2019-12-02',\n",
       "               '2019-12-03', '2019-12-04', '2019-12-05', '2019-12-06',\n",
       "               '2019-12-07', '2019-12-08',\n",
       "               ...\n",
       "               '2020-05-27', '2020-05-28', '2020-05-29', '2020-05-30',\n",
       "               '2020-05-31', '2020-06-01', '2020-06-02', '2020-06-03',\n",
       "               '2020-06-04', '2020-06-05'],\n",
       "              dtype='datetime64[ns]', length=190, freq='D')"
      ]
     },
     "execution_count": 18,
     "metadata": {},
     "output_type": "execute_result"
    }
   ],
   "source": [
    "days_for_loop = pd.date_range(start=pd.to_datetime(df_trading_one['下单日期'].min()), end=pd.to_datetime(df_trading_one['实提日期'].max()))\n",
    "days_for_loop"
   ]
  },
  {
   "cell_type": "code",
   "execution_count": null,
   "metadata": {},
   "outputs": [],
   "source": []
  },
  {
   "cell_type": "code",
   "execution_count": 85,
   "metadata": {},
   "outputs": [],
   "source": [
    "amount_need_dict = {}\n",
    "for d in days_for_loop:\n",
    "    crit1 = df_trading_one['下单日期'] <= d\n",
    "    crit2 = df_trading_one['实提日期'] >= d\n",
    "    df_on = df_trading_one[crit1 & crit2]\n",
    "    if len(df_on) == 0:\n",
    "        amount_need_dict[d] = 0\n",
    "    else:\n",
    "        amount_need_dict[d] = df_on['实提吨数'].sum()"
   ]
  },
  {
   "cell_type": "code",
   "execution_count": 87,
   "metadata": {},
   "outputs": [
    {
     "data": {
      "text/plain": [
       "<matplotlib.axes._subplots.AxesSubplot at 0x19e7157b9b0>"
      ]
     },
     "execution_count": 87,
     "metadata": {},
     "output_type": "execute_result"
    },
    {
     "data": {
      "image/png": "[encoded data removed]",
      "text/plain": [
       "<Figure size 1080x504 with 1 Axes>"
      ]
     },
     "metadata": {
      "needs_background": "light"
     },
     "output_type": "display_data"
    }
   ],
   "source": [
    "# 青岛山海川经贸有限公司：5000\n",
    "pd.Series(amount_need_dict).plot(figsize=(15, 7))"
   ]
  },
  {
   "cell_type": "code",
   "execution_count": 70,
   "metadata": {},
   "outputs": [
    {
     "data": {
      "text/plain": [
       "<matplotlib.axes._subplots.AxesSubplot at 0x19e708fb748>"
      ]
     },
     "execution_count": 70,
     "metadata": {},
     "output_type": "execute_result"
    },
    {
     "data": {
      "image/png": "[encoded data removed]",
      "text/plain": [
       "<Figure size 1080x504 with 1 Axes>"
      ]
     },
     "metadata": {
      "needs_background": "light"
     },
     "output_type": "display_data"
    }
   ],
   "source": [
    "# 天津巨奥钢铁贸易有限公司：5000\n",
    "pd.Series(amount_need_dict).plot(figsize=(15, 7))"
   ]
  },
  {
   "cell_type": "code",
   "execution_count": 47,
   "metadata": {},
   "outputs": [
    {
     "data": {
      "text/plain": [
       "<matplotlib.axes._subplots.AxesSubplot at 0x19e707e5c88>"
      ]
     },
     "execution_count": 47,
     "metadata": {},
     "output_type": "execute_result"
    },
    {
     "data": {
      "image/png": "[encoded data removed]",
      "text/plain": [
       "<Figure size 1080x504 with 1 Axes>"
      ]
     },
     "metadata": {
      "needs_background": "light"
     },
     "output_type": "display_data"
    }
   ],
   "source": [
    "# 建发：10000\n",
    "pd.Series(amount_need_dict).plot(figsize=(15, 7))"
   ]
  },
  {
   "cell_type": "code",
   "execution_count": null,
   "metadata": {},
   "outputs": [],
   "source": []
  }
 ],
 "metadata": {
  "kernelspec": {
   "display_name": "Python 3",
   "language": "python",
   "name": "python3"
  },
  "language_info": {
   "codemirror_mode": {
    "name": "ipython",
    "version": 3
   },
   "file_extension": ".py",
   "mimetype": "text/x-python",
   "name": "python",
   "nbconvert_exporter": "python",
   "pygments_lexer": "ipython3",
   "version": "3.7.3"
  }
 },
 "nbformat": 4,
 "nbformat_minor": 2
}
